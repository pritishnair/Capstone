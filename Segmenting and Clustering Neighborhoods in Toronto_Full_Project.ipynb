{
 "cells": [
  {
   "cell_type": "markdown",
   "metadata": {},
   "source": [
    "<h3>Assignment IBM</h1>\n",
    "<h3>Task 1: To scrape the given Wikipedia page and create a Dataframe.</h3>\n",
    "\n",
    "Transform the data on Wiki page into pandas dataframe\n",
    "\n",
    "Import Libraries"
   ]
  },
  {
   "cell_type": "code",
   "execution_count": 1,
   "metadata": {},
   "outputs": [],
   "source": [
    "from bs4 import BeautifulSoup\n",
    "import requests\n",
    "import pandas as pd"
   ]
  },
  {
   "cell_type": "markdown",
   "metadata": {},
   "source": [
    "Scrap List of postal codes of Canada wiki page content by using BeautifulSoup"
   ]
  },
  {
   "cell_type": "code",
   "execution_count": 2,
   "metadata": {},
   "outputs": [],
   "source": [
    "# download url data from internet\n",
    "url = \"https://en.wikipedia.org/wiki/List_of_postal_codes_of_Canada:_M\"\n",
    "source = requests.get(url).text\n",
    "Canada_data = BeautifulSoup(source, 'lxml')"
   ]
  },
  {
   "cell_type": "markdown",
   "metadata": {},
   "source": [
    "Convert content of PostalCode HTML table as dataframe"
   ]
  },
  {
   "cell_type": "code",
   "execution_count": 3,
   "metadata": {},
   "outputs": [
    {
     "data": {
      "text/html": [
       "<div>\n",
       "<style scoped>\n",
       "    .dataframe tbody tr th:only-of-type {\n",
       "        vertical-align: middle;\n",
       "    }\n",
       "\n",
       "    .dataframe tbody tr th {\n",
       "        vertical-align: top;\n",
       "    }\n",
       "\n",
       "    .dataframe thead th {\n",
       "        text-align: right;\n",
       "    }\n",
       "</style>\n",
       "<table border=\"1\" class=\"dataframe\">\n",
       "  <thead>\n",
       "    <tr style=\"text-align: right;\">\n",
       "      <th></th>\n",
       "      <th>Postalcode</th>\n",
       "      <th>Borough</th>\n",
       "      <th>Neighborhood</th>\n",
       "    </tr>\n",
       "  </thead>\n",
       "  <tbody>\n",
       "    <tr>\n",
       "      <th>0</th>\n",
       "      <td>M1B</td>\n",
       "      <td>Scarborough</td>\n",
       "      <td>Rouge, Malvern</td>\n",
       "    </tr>\n",
       "    <tr>\n",
       "      <th>1</th>\n",
       "      <td>M1C</td>\n",
       "      <td>Scarborough</td>\n",
       "      <td>Highland Creek, Rouge Hill, Port Union</td>\n",
       "    </tr>\n",
       "    <tr>\n",
       "      <th>2</th>\n",
       "      <td>M1E</td>\n",
       "      <td>Scarborough</td>\n",
       "      <td>Guildwood, Morningside, West Hill</td>\n",
       "    </tr>\n",
       "    <tr>\n",
       "      <th>3</th>\n",
       "      <td>M1G</td>\n",
       "      <td>Scarborough</td>\n",
       "      <td>Woburn</td>\n",
       "    </tr>\n",
       "    <tr>\n",
       "      <th>4</th>\n",
       "      <td>M1H</td>\n",
       "      <td>Scarborough</td>\n",
       "      <td>Cedarbrae</td>\n",
       "    </tr>\n",
       "  </tbody>\n",
       "</table>\n",
       "</div>"
      ],
      "text/plain": [
       "  Postalcode      Borough                            Neighborhood\n",
       "0        M1B  Scarborough                          Rouge, Malvern\n",
       "1        M1C  Scarborough  Highland Creek, Rouge Hill, Port Union\n",
       "2        M1E  Scarborough       Guildwood, Morningside, West Hill\n",
       "3        M1G  Scarborough                                  Woburn\n",
       "4        M1H  Scarborough                               Cedarbrae"
      ]
     },
     "execution_count": 3,
     "metadata": {},
     "output_type": "execute_result"
    }
   ],
   "source": [
    "# creat a new Dataframe\n",
    "column_names = ['Postalcode','Borough','Neighborhood']\n",
    "toronto = pd.DataFrame(columns = column_names)\n",
    "\n",
    "# loop through to find postcode, borough, neighborhood \n",
    "content = Canada_data.find('div', class_='mw-parser-output')\n",
    "table = content.table.tbody\n",
    "postcode = 0\n",
    "borough = 0\n",
    "neighborhood = 0\n",
    "\n",
    "for tr in table.find_all('tr'):\n",
    "    i = 0\n",
    "    for td in tr.find_all('td'):\n",
    "        if i == 0:\n",
    "            postcode = td.text\n",
    "            i = i + 1\n",
    "        elif i == 1:\n",
    "            borough = td.text\n",
    "            i = i + 1\n",
    "        elif i == 2: \n",
    "            neighborhood = td.text.strip('\\n').replace(']','')\n",
    "    toronto = toronto.append({'Postalcode': postcode,'Borough': borough,'Neighborhood': neighborhood},ignore_index=True)\n",
    "\n",
    "# clean dataframe \n",
    "toronto = toronto[toronto.Borough!='Not assigned']\n",
    "toronto = toronto[toronto.Borough!= 0]\n",
    "toronto.reset_index(drop = True, inplace = True)\n",
    "i = 0\n",
    "for i in range(0,toronto.shape[0]):\n",
    "    if toronto.iloc[i][2] == 'Not assigned':\n",
    "        toronto.iloc[i][2] = toronto.iloc[i][1]\n",
    "        i = i+1\n",
    "                                 \n",
    "df = toronto.groupby(['Postalcode','Borough'])['Neighborhood'].apply(', '.join).reset_index()\n",
    "df.head()"
   ]
  },
  {
   "cell_type": "markdown",
   "metadata": {},
   "source": [
    "<h3>Data Cleaning</h3>\n",
    "\n",
    "\n",
    "Drop \"None\" rows in DataFrame\n",
    "\n",
    "Drop any row which contains 'Not assigned' value\n",
    "\n",
    "All \"Not assigned\" will be replace to 'NaN' using numpy for convenience."
   ]
  },
  {
   "cell_type": "code",
   "execution_count": 4,
   "metadata": {},
   "outputs": [],
   "source": [
    "df = df.dropna()\n",
    "empty = 'Not assigned'\n",
    "df = df[(df.Postalcode != empty ) & (df.Borough != empty) & (df.Neighborhood != empty)]"
   ]
  },
  {
   "cell_type": "code",
   "execution_count": 5,
   "metadata": {},
   "outputs": [
    {
     "data": {
      "text/html": [
       "<div>\n",
       "<style scoped>\n",
       "    .dataframe tbody tr th:only-of-type {\n",
       "        vertical-align: middle;\n",
       "    }\n",
       "\n",
       "    .dataframe tbody tr th {\n",
       "        vertical-align: top;\n",
       "    }\n",
       "\n",
       "    .dataframe thead th {\n",
       "        text-align: right;\n",
       "    }\n",
       "</style>\n",
       "<table border=\"1\" class=\"dataframe\">\n",
       "  <thead>\n",
       "    <tr style=\"text-align: right;\">\n",
       "      <th></th>\n",
       "      <th>Postalcode</th>\n",
       "      <th>Borough</th>\n",
       "      <th>Neighborhood</th>\n",
       "    </tr>\n",
       "  </thead>\n",
       "  <tbody>\n",
       "    <tr>\n",
       "      <th>0</th>\n",
       "      <td>M1B</td>\n",
       "      <td>Scarborough</td>\n",
       "      <td>Rouge, Malvern</td>\n",
       "    </tr>\n",
       "    <tr>\n",
       "      <th>1</th>\n",
       "      <td>M1C</td>\n",
       "      <td>Scarborough</td>\n",
       "      <td>Highland Creek, Rouge Hill, Port Union</td>\n",
       "    </tr>\n",
       "    <tr>\n",
       "      <th>2</th>\n",
       "      <td>M1E</td>\n",
       "      <td>Scarborough</td>\n",
       "      <td>Guildwood, Morningside, West Hill</td>\n",
       "    </tr>\n",
       "    <tr>\n",
       "      <th>3</th>\n",
       "      <td>M1G</td>\n",
       "      <td>Scarborough</td>\n",
       "      <td>Woburn</td>\n",
       "    </tr>\n",
       "    <tr>\n",
       "      <th>4</th>\n",
       "      <td>M1H</td>\n",
       "      <td>Scarborough</td>\n",
       "      <td>Cedarbrae</td>\n",
       "    </tr>\n",
       "  </tbody>\n",
       "</table>\n",
       "</div>"
      ],
      "text/plain": [
       "  Postalcode      Borough                            Neighborhood\n",
       "0        M1B  Scarborough                          Rouge, Malvern\n",
       "1        M1C  Scarborough  Highland Creek, Rouge Hill, Port Union\n",
       "2        M1E  Scarborough       Guildwood, Morningside, West Hill\n",
       "3        M1G  Scarborough                                  Woburn\n",
       "4        M1H  Scarborough                               Cedarbrae"
      ]
     },
     "execution_count": 5,
     "metadata": {},
     "output_type": "execute_result"
    }
   ],
   "source": [
    "df.head()"
   ]
  },
  {
   "cell_type": "code",
   "execution_count": 6,
   "metadata": {},
   "outputs": [],
   "source": [
    "def neighborhood_list(grouped):    \n",
    "    return ', '.join(sorted(grouped['Neighborhood'].tolist()))\n",
    "                    \n",
    "grp = df.groupby(['Postalcode', 'Borough'])\n",
    "df2 = grp.apply(neighborhood_list).reset_index(name='Neighborhood')"
   ]
  },
  {
   "cell_type": "code",
   "execution_count": 7,
   "metadata": {},
   "outputs": [
    {
     "name": "stdout",
     "output_type": "stream",
     "text": [
      "(103, 3)\n"
     ]
    },
    {
     "data": {
      "text/html": [
       "<div>\n",
       "<style scoped>\n",
       "    .dataframe tbody tr th:only-of-type {\n",
       "        vertical-align: middle;\n",
       "    }\n",
       "\n",
       "    .dataframe tbody tr th {\n",
       "        vertical-align: top;\n",
       "    }\n",
       "\n",
       "    .dataframe thead th {\n",
       "        text-align: right;\n",
       "    }\n",
       "</style>\n",
       "<table border=\"1\" class=\"dataframe\">\n",
       "  <thead>\n",
       "    <tr style=\"text-align: right;\">\n",
       "      <th></th>\n",
       "      <th>Postalcode</th>\n",
       "      <th>Borough</th>\n",
       "      <th>Neighborhood</th>\n",
       "    </tr>\n",
       "  </thead>\n",
       "  <tbody>\n",
       "    <tr>\n",
       "      <th>0</th>\n",
       "      <td>M1B</td>\n",
       "      <td>Scarborough</td>\n",
       "      <td>Rouge, Malvern</td>\n",
       "    </tr>\n",
       "    <tr>\n",
       "      <th>1</th>\n",
       "      <td>M1C</td>\n",
       "      <td>Scarborough</td>\n",
       "      <td>Highland Creek, Rouge Hill, Port Union</td>\n",
       "    </tr>\n",
       "    <tr>\n",
       "      <th>2</th>\n",
       "      <td>M1E</td>\n",
       "      <td>Scarborough</td>\n",
       "      <td>Guildwood, Morningside, West Hill</td>\n",
       "    </tr>\n",
       "    <tr>\n",
       "      <th>3</th>\n",
       "      <td>M1G</td>\n",
       "      <td>Scarborough</td>\n",
       "      <td>Woburn</td>\n",
       "    </tr>\n",
       "    <tr>\n",
       "      <th>4</th>\n",
       "      <td>M1H</td>\n",
       "      <td>Scarborough</td>\n",
       "      <td>Cedarbrae</td>\n",
       "    </tr>\n",
       "  </tbody>\n",
       "</table>\n",
       "</div>"
      ],
      "text/plain": [
       "  Postalcode      Borough                            Neighborhood\n",
       "0        M1B  Scarborough                          Rouge, Malvern\n",
       "1        M1C  Scarborough  Highland Creek, Rouge Hill, Port Union\n",
       "2        M1E  Scarborough       Guildwood, Morningside, West Hill\n",
       "3        M1G  Scarborough                                  Woburn\n",
       "4        M1H  Scarborough                               Cedarbrae"
      ]
     },
     "execution_count": 7,
     "metadata": {},
     "output_type": "execute_result"
    }
   ],
   "source": [
    "print(df2.shape)\n",
    "df2.head()"
   ]
  },
  {
   "cell_type": "markdown",
   "metadata": {},
   "source": [
    "<h3>Task 2: Add the latitude and longitude coordinates to the dataframe</h3>\n",
    "\n",
    "Import Libraries"
   ]
  },
  {
   "cell_type": "code",
   "execution_count": 8,
   "metadata": {},
   "outputs": [],
   "source": [
    "import geocoder\n",
    "import numpy as np"
   ]
  },
  {
   "cell_type": "code",
   "execution_count": 9,
   "metadata": {},
   "outputs": [
    {
     "data": {
      "text/html": [
       "<div>\n",
       "<style scoped>\n",
       "    .dataframe tbody tr th:only-of-type {\n",
       "        vertical-align: middle;\n",
       "    }\n",
       "\n",
       "    .dataframe tbody tr th {\n",
       "        vertical-align: top;\n",
       "    }\n",
       "\n",
       "    .dataframe thead th {\n",
       "        text-align: right;\n",
       "    }\n",
       "</style>\n",
       "<table border=\"1\" class=\"dataframe\">\n",
       "  <thead>\n",
       "    <tr style=\"text-align: right;\">\n",
       "      <th></th>\n",
       "      <th>Postalcode</th>\n",
       "      <th>Borough</th>\n",
       "      <th>Neighborhood</th>\n",
       "    </tr>\n",
       "  </thead>\n",
       "  <tbody>\n",
       "    <tr>\n",
       "      <th>0</th>\n",
       "      <td>M1B</td>\n",
       "      <td>Scarborough</td>\n",
       "      <td>Rouge, Malvern</td>\n",
       "    </tr>\n",
       "    <tr>\n",
       "      <th>1</th>\n",
       "      <td>M1C</td>\n",
       "      <td>Scarborough</td>\n",
       "      <td>Highland Creek, Rouge Hill, Port Union</td>\n",
       "    </tr>\n",
       "    <tr>\n",
       "      <th>2</th>\n",
       "      <td>M1E</td>\n",
       "      <td>Scarborough</td>\n",
       "      <td>Guildwood, Morningside, West Hill</td>\n",
       "    </tr>\n",
       "    <tr>\n",
       "      <th>3</th>\n",
       "      <td>M1G</td>\n",
       "      <td>Scarborough</td>\n",
       "      <td>Woburn</td>\n",
       "    </tr>\n",
       "    <tr>\n",
       "      <th>4</th>\n",
       "      <td>M1H</td>\n",
       "      <td>Scarborough</td>\n",
       "      <td>Cedarbrae</td>\n",
       "    </tr>\n",
       "  </tbody>\n",
       "</table>\n",
       "</div>"
      ],
      "text/plain": [
       "  Postalcode      Borough                            Neighborhood\n",
       "0        M1B  Scarborough                          Rouge, Malvern\n",
       "1        M1C  Scarborough  Highland Creek, Rouge Hill, Port Union\n",
       "2        M1E  Scarborough       Guildwood, Morningside, West Hill\n",
       "3        M1G  Scarborough                                  Woburn\n",
       "4        M1H  Scarborough                               Cedarbrae"
      ]
     },
     "execution_count": 9,
     "metadata": {},
     "output_type": "execute_result"
    }
   ],
   "source": [
    "df=df2\n",
    "df.head()"
   ]
  },
  {
   "cell_type": "code",
   "execution_count": 10,
   "metadata": {},
   "outputs": [
    {
     "data": {
      "text/plain": [
       "[43.70976500000006, -79.36390090899994]"
      ]
     },
     "execution_count": 10,
     "metadata": {},
     "output_type": "execute_result"
    }
   ],
   "source": [
    "def get_latlng(postal_code):\n",
    "    # initialize your variable to None\n",
    "    lat_lng_coords = None\n",
    "    # loop until you get the coordinates\n",
    "    while(lat_lng_coords is None):\n",
    "        g = geocoder.arcgis('{}, Toronto, Ontario'.format(postal_code))\n",
    "        lat_lng_coords = g.latlng\n",
    "    return lat_lng_coords\n",
    "    \n",
    "get_latlng('M4G')"
   ]
  },
  {
   "cell_type": "markdown",
   "metadata": {},
   "source": [
    "Retrieving Postal Code coordinates"
   ]
  },
  {
   "cell_type": "code",
   "execution_count": 11,
   "metadata": {},
   "outputs": [],
   "source": [
    "postal_codes = df['Postalcode']    \n",
    "coords = [ get_latlng(postal_code) for postal_code in postal_codes.tolist() ]"
   ]
  },
  {
   "cell_type": "markdown",
   "metadata": {},
   "source": [
    "Adding columns Latitude and Longitude"
   ]
  },
  {
   "cell_type": "code",
   "execution_count": 12,
   "metadata": {},
   "outputs": [],
   "source": [
    "df_coords = pd.DataFrame(coords, columns=['Latitude', 'Longitude'])\n",
    "df['Latitude'] = df_coords['Latitude']\n",
    "df['Longitude'] = df_coords['Longitude']"
   ]
  },
  {
   "cell_type": "code",
   "execution_count": 13,
   "metadata": {},
   "outputs": [
    {
     "data": {
      "text/html": [
       "<div>\n",
       "<style scoped>\n",
       "    .dataframe tbody tr th:only-of-type {\n",
       "        vertical-align: middle;\n",
       "    }\n",
       "\n",
       "    .dataframe tbody tr th {\n",
       "        vertical-align: top;\n",
       "    }\n",
       "\n",
       "    .dataframe thead th {\n",
       "        text-align: right;\n",
       "    }\n",
       "</style>\n",
       "<table border=\"1\" class=\"dataframe\">\n",
       "  <thead>\n",
       "    <tr style=\"text-align: right;\">\n",
       "      <th></th>\n",
       "      <th>Postalcode</th>\n",
       "      <th>Borough</th>\n",
       "      <th>Neighborhood</th>\n",
       "      <th>Latitude</th>\n",
       "      <th>Longitude</th>\n",
       "    </tr>\n",
       "  </thead>\n",
       "  <tbody>\n",
       "    <tr>\n",
       "      <th>57</th>\n",
       "      <td>M5G</td>\n",
       "      <td>Downtown Toronto</td>\n",
       "      <td>Central Bay Street</td>\n",
       "      <td>43.656091</td>\n",
       "      <td>-79.38493</td>\n",
       "    </tr>\n",
       "  </tbody>\n",
       "</table>\n",
       "</div>"
      ],
      "text/plain": [
       "   Postalcode           Borough        Neighborhood   Latitude  Longitude\n",
       "57        M5G  Downtown Toronto  Central Bay Street  43.656091  -79.38493"
      ]
     },
     "execution_count": 13,
     "metadata": {},
     "output_type": "execute_result"
    }
   ],
   "source": [
    "df[df.Postalcode == 'M5G']"
   ]
  },
  {
   "cell_type": "code",
   "execution_count": 14,
   "metadata": {},
   "outputs": [
    {
     "data": {
      "text/html": [
       "<div>\n",
       "<style scoped>\n",
       "    .dataframe tbody tr th:only-of-type {\n",
       "        vertical-align: middle;\n",
       "    }\n",
       "\n",
       "    .dataframe tbody tr th {\n",
       "        vertical-align: top;\n",
       "    }\n",
       "\n",
       "    .dataframe thead th {\n",
       "        text-align: right;\n",
       "    }\n",
       "</style>\n",
       "<table border=\"1\" class=\"dataframe\">\n",
       "  <thead>\n",
       "    <tr style=\"text-align: right;\">\n",
       "      <th></th>\n",
       "      <th>Postalcode</th>\n",
       "      <th>Borough</th>\n",
       "      <th>Neighborhood</th>\n",
       "      <th>Latitude</th>\n",
       "      <th>Longitude</th>\n",
       "    </tr>\n",
       "  </thead>\n",
       "  <tbody>\n",
       "    <tr>\n",
       "      <th>0</th>\n",
       "      <td>M1B</td>\n",
       "      <td>Scarborough</td>\n",
       "      <td>Rouge, Malvern</td>\n",
       "      <td>43.811525</td>\n",
       "      <td>-79.195517</td>\n",
       "    </tr>\n",
       "    <tr>\n",
       "      <th>1</th>\n",
       "      <td>M1C</td>\n",
       "      <td>Scarborough</td>\n",
       "      <td>Highland Creek, Rouge Hill, Port Union</td>\n",
       "      <td>43.785730</td>\n",
       "      <td>-79.158750</td>\n",
       "    </tr>\n",
       "    <tr>\n",
       "      <th>2</th>\n",
       "      <td>M1E</td>\n",
       "      <td>Scarborough</td>\n",
       "      <td>Guildwood, Morningside, West Hill</td>\n",
       "      <td>43.765690</td>\n",
       "      <td>-79.175256</td>\n",
       "    </tr>\n",
       "    <tr>\n",
       "      <th>3</th>\n",
       "      <td>M1G</td>\n",
       "      <td>Scarborough</td>\n",
       "      <td>Woburn</td>\n",
       "      <td>43.768359</td>\n",
       "      <td>-79.217590</td>\n",
       "    </tr>\n",
       "    <tr>\n",
       "      <th>4</th>\n",
       "      <td>M1H</td>\n",
       "      <td>Scarborough</td>\n",
       "      <td>Cedarbrae</td>\n",
       "      <td>43.769688</td>\n",
       "      <td>-79.239440</td>\n",
       "    </tr>\n",
       "  </tbody>\n",
       "</table>\n",
       "</div>"
      ],
      "text/plain": [
       "  Postalcode      Borough                            Neighborhood   Latitude  \\\n",
       "0        M1B  Scarborough                          Rouge, Malvern  43.811525   \n",
       "1        M1C  Scarborough  Highland Creek, Rouge Hill, Port Union  43.785730   \n",
       "2        M1E  Scarborough       Guildwood, Morningside, West Hill  43.765690   \n",
       "3        M1G  Scarborough                                  Woburn  43.768359   \n",
       "4        M1H  Scarborough                               Cedarbrae  43.769688   \n",
       "\n",
       "   Longitude  \n",
       "0 -79.195517  \n",
       "1 -79.158750  \n",
       "2 -79.175256  \n",
       "3 -79.217590  \n",
       "4 -79.239440  "
      ]
     },
     "execution_count": 14,
     "metadata": {},
     "output_type": "execute_result"
    }
   ],
   "source": [
    "df.head(5)"
   ]
  },
  {
   "cell_type": "markdown",
   "metadata": {},
   "source": [
    "<h3>Task 3: Clustering</h3>\n",
    "Import Libraries"
   ]
  },
  {
   "cell_type": "code",
   "execution_count": 15,
   "metadata": {},
   "outputs": [],
   "source": [
    "from bs4 import BeautifulSoup as bs\n",
    "import re\n",
    "\n",
    "import numpy as np # library to handle data in a vectorized manner\n",
    "import pandas as pd # library for data analsysis\n",
    "pd.set_option('display.max_columns', None)\n",
    "pd.set_option('display.max_rows', None)\n",
    "\n",
    "import json # library to handle JSON files\n",
    "\n",
    "#!conda install -c conda-forge geopy --yes # uncomment this line if you haven't completed the Foursquare API lab\n",
    "from geopy.geocoders import Nominatim # convert an address into latitude and longitude values\n",
    "\n",
    "import requests # library to handle requests\n",
    "from pandas.io.json import json_normalize # tranform JSON file into a pandas dataframe\n",
    "\n",
    "# Matplotlib and associated plotting modules\n",
    "import matplotlib.cm as cm\n",
    "import matplotlib.colors as colors\n",
    "\n",
    "# import k-means from clustering stage\n",
    "from sklearn.cluster import KMeans\n",
    "\n",
    "#!conda install -c conda-forge folium=0.5.0 --yes # uncomment this line if you haven't completed the Foursquare API lab\n",
    "import folium # map rendering library"
   ]
  },
  {
   "cell_type": "code",
   "execution_count": 16,
   "metadata": {},
   "outputs": [
    {
     "name": "stderr",
     "output_type": "stream",
     "text": [
      "C:\\Users\\kartikd\\AppData\\Local\\Continuum\\anaconda3\\lib\\site-packages\\ipykernel_launcher.py:3: DeprecationWarning: Using Nominatim with the default \"geopy/1.20.0\" `user_agent` is strongly discouraged, as it violates Nominatim's ToS https://operations.osmfoundation.org/policies/nominatim/ and may possibly cause 403 and 429 HTTP errors. Please specify a custom `user_agent` with `Nominatim(user_agent=\"my-application\")` or by overriding the default `user_agent`: `geopy.geocoders.options.default_user_agent = \"my-application\"`. In geopy 2.0 this will become an exception.\n",
      "  This is separate from the ipykernel package so we can avoid doing imports until\n"
     ]
    },
    {
     "name": "stdout",
     "output_type": "stream",
     "text": [
      "The geograpical coordinate of Toronto are 43.653963, -79.387207.\n"
     ]
    },
    {
     "data": {
      "text/html": [
       "<div style=\"width:100%;\"><div style=\"position:relative;width:100%;height:0;padding-bottom:60%;\"><iframe src=\"data:text/html;charset=utf-8;base64,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\" style=\"position:absolute;width:100%;height:100%;left:0;top:0;border:none !important;\" allowfullscreen webkitallowfullscreen mozallowfullscreen></iframe></div></div>"
      ],
      "text/plain": [
       "<folium.folium.Map at 0x1c0eeab4eb8>"
      ]
     },
     "execution_count": 16,
     "metadata": {},
     "output_type": "execute_result"
    }
   ],
   "source": [
    "address = 'Toronto'\n",
    "\n",
    "geolocator = Nominatim()\n",
    "location = geolocator.geocode(address)\n",
    "latitude = location.latitude\n",
    "longitude = location.longitude\n",
    "print('The geograpical coordinate of Toronto are {}, {}.'.format(latitude, longitude))\n",
    "\n",
    "# create map of New York using latitude and longitude values\n",
    "map_toronto = folium.Map(location=[latitude, longitude], zoom_start=10)\n",
    "\n",
    "# add markers to map\n",
    "for lat, lng, borough, neighborhood in zip(df['Latitude'], df['Longitude'], df['Borough'], df['Neighborhood']):\n",
    "    label = '{}, {}'.format(neighborhood, borough)\n",
    "    label = folium.Popup(label, parse_html=True)\n",
    "    folium.CircleMarker(\n",
    "        [lat, lng],\n",
    "        radius=5,\n",
    "        popup=label,\n",
    "        color='blue',\n",
    "        fill=True,\n",
    "        fill_color='#3186cc',\n",
    "        fill_opacity=0.7,\n",
    "        parse_html=False).add_to(map_toronto)  \n",
    "    \n",
    "map_toronto"
   ]
  },
  {
   "cell_type": "code",
   "execution_count": 17,
   "metadata": {},
   "outputs": [
    {
     "name": "stderr",
     "output_type": "stream",
     "text": [
      "C:\\Users\\kartikd\\AppData\\Local\\Continuum\\anaconda3\\lib\\site-packages\\ipykernel_launcher.py:4: DeprecationWarning: Using Nominatim with the default \"geopy/1.20.0\" `user_agent` is strongly discouraged, as it violates Nominatim's ToS https://operations.osmfoundation.org/policies/nominatim/ and may possibly cause 403 and 429 HTTP errors. Please specify a custom `user_agent` with `Nominatim(user_agent=\"my-application\")` or by overriding the default `user_agent`: `geopy.geocoders.options.default_user_agent = \"my-application\"`. In geopy 2.0 this will become an exception.\n",
      "  after removing the cwd from sys.path.\n"
     ]
    },
    {
     "name": "stdout",
     "output_type": "stream",
     "text": [
      "The geograpical coordinate of Scarborough are 43.773077, -79.257774.\n"
     ]
    }
   ],
   "source": [
    "scarborough_data = df[df['Borough'] == 'Scarborough'].reset_index(drop=True)\n",
    "address1 = 'Scarborough,Toronto'\n",
    "\n",
    "geolocator1 = Nominatim()\n",
    "location1 = geolocator1.geocode(address1)\n",
    "latitude1 = location1.latitude\n",
    "longitude1 = location1.longitude\n",
    "print('The geograpical coordinate of Scarborough are {}, {}.'.format(latitude1, longitude1))"
   ]
  },
  {
   "cell_type": "code",
   "execution_count": 18,
   "metadata": {},
   "outputs": [
    {
     "data": {
      "text/html": [
       "<div style=\"width:100%;\"><div style=\"position:relative;width:100%;height:0;padding-bottom:60%;\"><iframe src=\"data:text/html;charset=utf-8;base64,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\" style=\"position:absolute;width:100%;height:100%;left:0;top:0;border:none !important;\" allowfullscreen webkitallowfullscreen mozallowfullscreen></iframe></div></div>"
      ],
      "text/plain": [
       "<folium.folium.Map at 0x1c0eec0c080>"
      ]
     },
     "execution_count": 18,
     "metadata": {},
     "output_type": "execute_result"
    }
   ],
   "source": [
    "map_scarb = folium.Map(location=[latitude1, longitude1], zoom_start=11)\n",
    "\n",
    "# add markers to map\n",
    "for lat, lng, label in zip(scarborough_data['Latitude'], scarborough_data['Longitude'], scarborough_data['Neighborhood']):\n",
    "    label = folium.Popup(label, parse_html=True)\n",
    "    folium.CircleMarker(\n",
    "        [lat, lng],\n",
    "        radius=5,\n",
    "        popup=label,\n",
    "        color='blue',\n",
    "        fill=True,\n",
    "        fill_color='#3186cc',\n",
    "        fill_opacity=0.7,\n",
    "        parse_html=False).add_to(map_scarb)  \n",
    "    \n",
    "map_scarb"
   ]
  },
  {
   "cell_type": "code",
   "execution_count": 19,
   "metadata": {},
   "outputs": [],
   "source": [
    "CLIENT_ID='OUZBSSBT0H3QUGRLHMTHLHFOLVGDFJXT2EJB14GS3YIXSCVD'\n",
    "CLIENT_SECRET='I4FHA5SHUVXDDGFFYBAZWDXXSF0I121IOFYNC5P1VWJMSDZM'\n",
    "VERSION = '20180604'"
   ]
  },
  {
   "cell_type": "code",
   "execution_count": 20,
   "metadata": {},
   "outputs": [
    {
     "name": "stdout",
     "output_type": "stream",
     "text": [
      "Latitude and longitude values of Rouge, Malvern are 43.811525000000074, -79.19551721399995.\n"
     ]
    }
   ],
   "source": [
    "neighborhood_latitude = scarborough_data.loc[0, 'Latitude'] # neighborhood latitude value\n",
    "neighborhood_longitude = scarborough_data.loc[0, 'Longitude'] # neighborhood longitude value\n",
    "\n",
    "neighborhood_name = scarborough_data.loc[0, 'Neighborhood'] # neighborhood name\n",
    "\n",
    "print('Latitude and longitude values of {} are {}, {}.'.format(neighborhood_name, \n",
    "                                                               neighborhood_latitude, \n",
    "                                                               neighborhood_longitude))\n",
    "\n",
    "LIMIT = 100\n",
    "radius = 500\n",
    "url = 'https://api.foursquare.com/v2/venues/explore?client_id={}&client_secret={}&ll={},{}&v={}&radius={}&limit={}'.format(CLIENT_ID, CLIENT_SECRET, latitude1, longitude1, VERSION, radius, LIMIT)"
   ]
  },
  {
   "cell_type": "code",
   "execution_count": 21,
   "metadata": {},
   "outputs": [],
   "source": [
    "def get_category_type(row):\n",
    "    try:\n",
    "        categories_list = row['categories']\n",
    "    except:\n",
    "        categories_list = row['venue.categories']\n",
    "        \n",
    "    if len(categories_list) == 0:\n",
    "        return None\n",
    "    else:\n",
    "        return categories_list[0]['name']"
   ]
  },
  {
   "cell_type": "code",
   "execution_count": 26,
   "metadata": {},
   "outputs": [
    {
     "data": {
      "text/html": [
       "<div>\n",
       "<style scoped>\n",
       "    .dataframe tbody tr th:only-of-type {\n",
       "        vertical-align: middle;\n",
       "    }\n",
       "\n",
       "    .dataframe tbody tr th {\n",
       "        vertical-align: top;\n",
       "    }\n",
       "\n",
       "    .dataframe thead th {\n",
       "        text-align: right;\n",
       "    }\n",
       "</style>\n",
       "<table border=\"1\" class=\"dataframe\">\n",
       "  <thead>\n",
       "    <tr style=\"text-align: right;\">\n",
       "      <th></th>\n",
       "      <th>name</th>\n",
       "      <th>categories</th>\n",
       "      <th>lat</th>\n",
       "      <th>lng</th>\n",
       "    </tr>\n",
       "  </thead>\n",
       "  <tbody>\n",
       "    <tr>\n",
       "      <th>0</th>\n",
       "      <td>Disney Store</td>\n",
       "      <td>Toy / Game Store</td>\n",
       "      <td>43.775537</td>\n",
       "      <td>-79.256833</td>\n",
       "    </tr>\n",
       "    <tr>\n",
       "      <th>1</th>\n",
       "      <td>American Eagle Outfitters</td>\n",
       "      <td>Clothing Store</td>\n",
       "      <td>43.775908</td>\n",
       "      <td>-79.258352</td>\n",
       "    </tr>\n",
       "    <tr>\n",
       "      <th>2</th>\n",
       "      <td>SEPHORA</td>\n",
       "      <td>Cosmetics Shop</td>\n",
       "      <td>43.775017</td>\n",
       "      <td>-79.258109</td>\n",
       "    </tr>\n",
       "    <tr>\n",
       "      <th>3</th>\n",
       "      <td>DAVIDsTEA</td>\n",
       "      <td>Tea Room</td>\n",
       "      <td>43.776613</td>\n",
       "      <td>-79.258516</td>\n",
       "    </tr>\n",
       "    <tr>\n",
       "      <th>4</th>\n",
       "      <td>St. Andrews Fish &amp; Chips</td>\n",
       "      <td>Fish &amp; Chips Shop</td>\n",
       "      <td>43.771865</td>\n",
       "      <td>-79.252645</td>\n",
       "    </tr>\n",
       "    <tr>\n",
       "      <th>5</th>\n",
       "      <td>Coliseum Scarborough Cinemas</td>\n",
       "      <td>Movie Theater</td>\n",
       "      <td>43.775995</td>\n",
       "      <td>-79.255649</td>\n",
       "    </tr>\n",
       "    <tr>\n",
       "      <th>6</th>\n",
       "      <td>Tommy Hilfiger Company Store</td>\n",
       "      <td>Clothing Store</td>\n",
       "      <td>43.776015</td>\n",
       "      <td>-79.257369</td>\n",
       "    </tr>\n",
       "    <tr>\n",
       "      <th>7</th>\n",
       "      <td>Chipotle Mexican Grill</td>\n",
       "      <td>Mexican Restaurant</td>\n",
       "      <td>43.776410</td>\n",
       "      <td>-79.258069</td>\n",
       "    </tr>\n",
       "    <tr>\n",
       "      <th>8</th>\n",
       "      <td>Shoppers Drug Mart</td>\n",
       "      <td>Pharmacy</td>\n",
       "      <td>43.773305</td>\n",
       "      <td>-79.251662</td>\n",
       "    </tr>\n",
       "    <tr>\n",
       "      <th>9</th>\n",
       "      <td>Hot Topic</td>\n",
       "      <td>Clothing Store</td>\n",
       "      <td>43.775450</td>\n",
       "      <td>-79.257929</td>\n",
       "    </tr>\n",
       "    <tr>\n",
       "      <th>10</th>\n",
       "      <td>Tim Hortons</td>\n",
       "      <td>Coffee Shop</td>\n",
       "      <td>43.769936</td>\n",
       "      <td>-79.260368</td>\n",
       "    </tr>\n",
       "    <tr>\n",
       "      <th>11</th>\n",
       "      <td>Jimmy The Greek</td>\n",
       "      <td>Greek Restaurant</td>\n",
       "      <td>43.775112</td>\n",
       "      <td>-79.257119</td>\n",
       "    </tr>\n",
       "  </tbody>\n",
       "</table>\n",
       "</div>"
      ],
      "text/plain": [
       "                            name          categories        lat        lng\n",
       "0                   Disney Store    Toy / Game Store  43.775537 -79.256833\n",
       "1      American Eagle Outfitters      Clothing Store  43.775908 -79.258352\n",
       "2                        SEPHORA      Cosmetics Shop  43.775017 -79.258109\n",
       "3                      DAVIDsTEA            Tea Room  43.776613 -79.258516\n",
       "4       St. Andrews Fish & Chips   Fish & Chips Shop  43.771865 -79.252645\n",
       "5   Coliseum Scarborough Cinemas       Movie Theater  43.775995 -79.255649\n",
       "6   Tommy Hilfiger Company Store      Clothing Store  43.776015 -79.257369\n",
       "7         Chipotle Mexican Grill  Mexican Restaurant  43.776410 -79.258069\n",
       "8             Shoppers Drug Mart            Pharmacy  43.773305 -79.251662\n",
       "9                      Hot Topic      Clothing Store  43.775450 -79.257929\n",
       "10                   Tim Hortons         Coffee Shop  43.769936 -79.260368\n",
       "11               Jimmy The Greek    Greek Restaurant  43.775112 -79.257119"
      ]
     },
     "execution_count": 26,
     "metadata": {},
     "output_type": "execute_result"
    }
   ],
   "source": [
    "results = requests.get(url).json()\n",
    "venues = results['response']['groups'][0]['items']\n",
    "    \n",
    "nearby_venues = json_normalize(venues) # flatten JSON\n",
    "\n",
    "# filter columns\n",
    "filtered_columns = ['venue.name', 'venue.categories', 'venue.location.lat', 'venue.location.lng']\n",
    "nearby_venues =nearby_venues.loc[:, filtered_columns]\n",
    "\n",
    "# filter the category for each row\n",
    "nearby_venues['venue.categories'] = nearby_venues.apply(get_category_type, axis=1)\n",
    "\n",
    "# clean columns\n",
    "nearby_venues.columns = [col.split(\".\")[-1] for col in nearby_venues.columns]\n",
    "\n",
    "nearby_venues.head(12)"
   ]
  },
  {
   "cell_type": "code",
   "execution_count": 27,
   "metadata": {},
   "outputs": [],
   "source": [
    "def getNearbyVenues(names, latitudes, longitudes, radius=500):\n",
    "    \n",
    "    venues_list=[]\n",
    "    for name, lat, lng in zip(names, latitudes, longitudes):\n",
    "        print(name)\n",
    "            \n",
    "        # create the API request URL\n",
    "        url = 'https://api.foursquare.com/v2/venues/explore?&client_id={}&client_secret={}&v={}&ll={},{}&radius={}&limit={}'.format(\n",
    "            CLIENT_ID, \n",
    "            CLIENT_SECRET, \n",
    "            VERSION, \n",
    "            lat, \n",
    "            lng, \n",
    "            radius, \n",
    "            LIMIT)\n",
    "            \n",
    "        # make the GET request\n",
    "        results = requests.get(url).json()[\"response\"]['groups'][0]['items']\n",
    "        \n",
    "        # return only relevant information for each nearby venue\n",
    "        venues_list.append([(\n",
    "            name, \n",
    "            lat, \n",
    "            lng, \n",
    "            v['venue']['name'], \n",
    "            v['venue']['location']['lat'], \n",
    "            v['venue']['location']['lng'],  \n",
    "            v['venue']['categories'][0]['name']) for v in results])\n",
    "\n",
    "    nearby_venues = pd.DataFrame([item for venue_list in venues_list for item in venue_list])\n",
    "    nearby_venues.columns = ['Neighborhood', \n",
    "                  'Neighborhood Latitude', \n",
    "                  'Neighborhood Longitude', \n",
    "                  'Venue', \n",
    "                  'Venue Latitude', \n",
    "                  'Venue Longitude', \n",
    "                  'Venue Category']\n",
    "    \n",
    "    return(nearby_venues)"
   ]
  },
  {
   "cell_type": "code",
   "execution_count": 28,
   "metadata": {},
   "outputs": [
    {
     "name": "stdout",
     "output_type": "stream",
     "text": [
      "Rouge, Malvern\n",
      "Highland Creek, Rouge Hill, Port Union\n",
      "Guildwood, Morningside, West Hill\n",
      "Woburn\n",
      "Cedarbrae\n",
      "Scarborough Village\n",
      "East Birchmount Park, Ionview, Kennedy Park\n",
      "Clairlea, Golden Mile, Oakridge\n",
      "Cliffcrest, Cliffside, Scarborough Village West\n",
      "Birch Cliff, Cliffside West\n",
      "Dorset Park, Scarborough Town Centre, Wexford Heights\n",
      "Maryvale, Wexford\n",
      "Agincourt\n",
      "Clarks Corners, Sullivan, Tam O'Shanter\n",
      "Agincourt North, L'Amoreaux East, Milliken, Steeles East\n",
      "L'Amoreaux West\n",
      "Upper Rouge\n"
     ]
    }
   ],
   "source": [
    "scarborough_venues = getNearbyVenues(names=scarborough_data['Neighborhood'],\n",
    "                                   latitudes=scarborough_data['Latitude'],\n",
    "                                   longitudes=scarborough_data['Longitude']\n",
    "                                  )"
   ]
  },
  {
   "cell_type": "code",
   "execution_count": 29,
   "metadata": {},
   "outputs": [
    {
     "name": "stdout",
     "output_type": "stream",
     "text": [
      "                                                    Neighborhood Latitude  \\\n",
      "Neighborhood                                                                \n",
      "Agincourt                                                              13   \n",
      "Agincourt North, L'Amoreaux East, Milliken, Ste...                      3   \n",
      "Birch Cliff, Cliffside West                                             6   \n",
      "Cedarbrae                                                               1   \n",
      "\n",
      "                                                    Neighborhood Longitude  \\\n",
      "Neighborhood                                                                 \n",
      "Agincourt                                                               13   \n",
      "Agincourt North, L'Amoreaux East, Milliken, Ste...                       3   \n",
      "Birch Cliff, Cliffside West                                              6   \n",
      "Cedarbrae                                                                1   \n",
      "\n",
      "                                                    Venue  Venue Latitude  \\\n",
      "Neighborhood                                                                \n",
      "Agincourt                                              13              13   \n",
      "Agincourt North, L'Amoreaux East, Milliken, Ste...      3               3   \n",
      "Birch Cliff, Cliffside West                             6               6   \n",
      "Cedarbrae                                               1               1   \n",
      "\n",
      "                                                    Venue Longitude  \\\n",
      "Neighborhood                                                          \n",
      "Agincourt                                                        13   \n",
      "Agincourt North, L'Amoreaux East, Milliken, Ste...                3   \n",
      "Birch Cliff, Cliffside West                                       6   \n",
      "Cedarbrae                                                         1   \n",
      "\n",
      "                                                    Venue Category  \n",
      "Neighborhood                                                        \n",
      "Agincourt                                                       13  \n",
      "Agincourt North, L'Amoreaux East, Milliken, Ste...               3  \n",
      "Birch Cliff, Cliffside West                                      6  \n",
      "Cedarbrae                                                        1  \n"
     ]
    }
   ],
   "source": [
    "scarborough_venues.head(3)\n",
    "print(scarborough_venues.groupby('Neighborhood').count()[:4])"
   ]
  },
  {
   "cell_type": "code",
   "execution_count": 30,
   "metadata": {},
   "outputs": [],
   "source": [
    "# one hot encoding\n",
    "scarb_onehot = pd.get_dummies(scarborough_venues[['Venue Category']], prefix=\"\", prefix_sep=\"\")\n",
    "\n",
    "# add neighborhood column back to dataframe\n",
    "scarb_onehot['Neighborhood'] = scarborough_venues['Neighborhood'] \n",
    "\n",
    "# move neighborhood column to the first column\n",
    "fixed_columns = [scarb_onehot.columns[-1]] + list(scarb_onehot.columns[:-1])\n",
    "scarb_onehot = scarb_onehot[fixed_columns]\n",
    "\n",
    "scarb_grouped = scarb_onehot.groupby('Neighborhood').mean().reset_index()"
   ]
  },
  {
   "cell_type": "markdown",
   "metadata": {},
   "source": [
    "<h3>Getting top 10 venues per neighborhood</h3>"
   ]
  },
  {
   "cell_type": "code",
   "execution_count": 31,
   "metadata": {},
   "outputs": [],
   "source": [
    "def return_most_common_venues(row, num_top_venues):\n",
    "    row_categories = row.iloc[1:]\n",
    "    row_categories_sorted = row_categories.sort_values(ascending=False)\n",
    "    \n",
    "    return row_categories_sorted.index.values[0:num_top_venues]"
   ]
  },
  {
   "cell_type": "code",
   "execution_count": 32,
   "metadata": {},
   "outputs": [],
   "source": [
    "num_top_venues = 10\n",
    "\n",
    "indicators = ['st', 'nd', 'rd']\n",
    "\n",
    "# create columns according to number of top venues\n",
    "columns = ['Neighborhood']\n",
    "for ind in np.arange(num_top_venues):\n",
    "    try:\n",
    "        columns.append('{}{} Most Common Venue'.format(ind+1, indicators[ind]))\n",
    "    except:\n",
    "        columns.append('{}th Most Common Venue'.format(ind+1))\n",
    "\n",
    "# create a new dataframe\n",
    "neighborhoods_venues_sorted = pd.DataFrame(columns=columns)\n",
    "neighborhoods_venues_sorted['Neighborhood'] = scarb_grouped['Neighborhood']\n",
    "\n",
    "for ind in np.arange(scarb_grouped.shape[0]):\n",
    "    neighborhoods_venues_sorted.iloc[ind, 1:] = return_most_common_venues(scarb_grouped.iloc[ind, :], num_top_venues)"
   ]
  },
  {
   "cell_type": "markdown",
   "metadata": {},
   "source": [
    "<h3>Run k-means to Cluster into 5 clusters</h3>"
   ]
  },
  {
   "cell_type": "code",
   "execution_count": 33,
   "metadata": {},
   "outputs": [
    {
     "data": {
      "text/plain": [
       "array([0, 2, 0, 1, 0, 0, 0, 0, 0, 3])"
      ]
     },
     "execution_count": 33,
     "metadata": {},
     "output_type": "execute_result"
    }
   ],
   "source": [
    "scarb_data = scarborough_data.drop(16)\n",
    "# set number of clusters\n",
    "kclusters = 5\n",
    "\n",
    "scarb_grouped_clustering = scarb_grouped.drop('Neighborhood', 1)\n",
    "\n",
    "# run k-means clustering\n",
    "kmeans = KMeans(n_clusters=kclusters, random_state=0).fit(scarb_grouped_clustering)\n",
    "\n",
    "# check cluster labels generated for each row in the dataframe\n",
    "kmeans.labels_[0:10]"
   ]
  },
  {
   "cell_type": "code",
   "execution_count": 47,
   "metadata": {},
   "outputs": [
    {
     "name": "stderr",
     "output_type": "stream",
     "text": [
      "C:\\Users\\kartikd\\AppData\\Local\\Continuum\\anaconda3\\lib\\site-packages\\ipykernel_launcher.py:4: SettingWithCopyWarning: \n",
      "A value is trying to be set on a copy of a slice from a DataFrame.\n",
      "Try using .loc[row_indexer,col_indexer] = value instead\n",
      "\n",
      "See the caveats in the documentation: http://pandas.pydata.org/pandas-docs/stable/indexing.html#indexing-view-versus-copy\n",
      "  after removing the cwd from sys.path.\n"
     ]
    }
   ],
   "source": [
    "scarb_merged = scarb_data\n",
    "scarb_merged=scarb_merged.iloc[0:15]\n",
    "# add clustering labels\n",
    "scarb_merged['Cluster Labels'] = kmeans.labels_\n",
    "\n",
    "# merge toronto_grouped with toronto_data to add latitude/longitude for each neighborhood\n",
    "scarb_merged = scarb_merged.join(neighborhoods_venues_sorted.set_index('Neighborhood'), on='Neighborhood')"
   ]
  },
  {
   "cell_type": "markdown",
   "metadata": {},
   "source": [
    "<h2>Visualize the clusters</h2>"
   ]
  },
  {
   "cell_type": "code",
   "execution_count": 48,
   "metadata": {},
   "outputs": [
    {
     "data": {
      "text/html": [
       "<div style=\"width:100%;\"><div style=\"position:relative;width:100%;height:0;padding-bottom:60%;\"><iframe src=\"data:text/html;charset=utf-8;base64,PCFET0NUWVBFIGh0bWw+CjxoZWFkPiAgICAKICAgIDxtZXRhIGh0dHAtZXF1aXY9ImNvbnRlbnQtdHlwZSIgY29udGVudD0idGV4dC9odG1sOyBjaGFyc2V0PVVURi04IiAvPgogICAgCiAgICAgICAgPHNjcmlwdD4KICAgICAgICAgICAgTF9OT19UT1VDSCA9IGZhbHNlOwogICAgICAgICAgICBMX0RJU0FCTEVfM0QgPSBmYWxzZTsKICAgICAgICA8L3NjcmlwdD4KICAgIAogICAgPHNjcmlwdCBzcmM9Imh0dHBzOi8vY2RuLmpzZGVsaXZyLm5ldC9ucG0vbGVhZmxldEAxLjUuMS9kaXN0L2xlYWZsZXQuanMiPjwvc2NyaXB0PgogICAgPHNjcmlwdCBzcmM9Imh0dHBzOi8vY29kZS5qcXVlcnkuY29tL2pxdWVyeS0xLjEyLjQubWluLmpzIj48L3NjcmlwdD4KICAgIDxzY3JpcHQgc3JjPSJodHRwczovL21heGNkbi5ib290c3RyYXBjZG4uY29tL2Jvb3RzdHJhcC8zLjIuMC9qcy9ib290c3RyYXAubWluLmpzIj48L3NjcmlwdD4KICAgIDxzY3JpcHQgc3JjPSJodHRwczovL2NkbmpzLmNsb3VkZmxhcmUuY29tL2FqYXgvbGlicy9MZWFmbGV0LmF3ZXNvbWUtbWFya2Vycy8yLjAuMi9sZWFmbGV0LmF3ZXNvbWUtbWFya2Vycy5qcyI+PC9zY3JpcHQ+CiAgICA8bGluayByZWw9InN0eWxlc2hlZXQiIGhyZWY9Imh0dHBzOi8vY2RuLmpzZGVsaXZyLm5ldC9ucG0vbGVhZmxldEAxLjUuMS9kaXN0L2xlYWZsZXQuY3NzIi8+CiAgICA8bGluayByZWw9InN0eWxlc2hlZXQiIGhyZWY9Imh0dHBzOi8vbWF4Y2RuLmJvb3RzdHJhcGNkbi5jb20vYm9vdHN0cmFwLzMuMi4wL2Nzcy9ib290c3RyYXAubWluLmNzcyIvPgogICAgPGxpbmsgcmVsPSJzdHlsZXNoZWV0IiBocmVmPSJodHRwczovL21heGNkbi5ib290c3RyYXBjZG4uY29tL2Jvb3RzdHJhcC8zLjIuMC9jc3MvYm9vdHN0cmFwLXRoZW1lLm1pbi5jc3MiLz4KICAgIDxsaW5rIHJlbD0ic3R5bGVzaGVldCIgaHJlZj0iaHR0cHM6Ly9tYXhjZG4uYm9vdHN0cmFwY2RuLmNvbS9mb250LWF3ZXNvbWUvNC42LjMvY3NzL2ZvbnQtYXdlc29tZS5taW4uY3NzIi8+CiAgICA8bGluayByZWw9InN0eWxlc2hlZXQiIGhyZWY9Imh0dHBzOi8vY2RuanMuY2xvdWRmbGFyZS5jb20vYWpheC9saWJzL0xlYWZsZXQuYXdlc29tZS1tYXJrZXJzLzIuMC4yL2xlYWZsZXQuYXdlc29tZS1tYXJrZXJzLmNzcyIvPgogICAgPGxpbmsgcmVsPSJzdHlsZXNoZWV0IiBocmVmPSJodHRwczovL3Jhd2Nkbi5naXRoYWNrLmNvbS9weXRob24tdmlzdWFsaXphdGlvbi9mb2xpdW0vbWFzdGVyL2ZvbGl1bS90ZW1wbGF0ZXMvbGVhZmxldC5hd2Vzb21lLnJvdGF0ZS5jc3MiLz4KICAgIDxzdHlsZT5odG1sLCBib2R5IHt3aWR0aDogMTAwJTtoZWlnaHQ6IDEwMCU7bWFyZ2luOiAwO3BhZGRpbmc6IDA7fTwvc3R5bGU+CiAgICA8c3R5bGU+I21hcCB7cG9zaXRpb246YWJzb2x1dGU7dG9wOjA7Ym90dG9tOjA7cmlnaHQ6MDtsZWZ0OjA7fTwvc3R5bGU+CiAgICAKICAgICAgICAgICAgPG1ldGEgbmFtZT0idmlld3BvcnQiIGNvbnRlbnQ9IndpZHRoPWRldmljZS13aWR0aCwKICAgICAgICAgICAgICAgIGluaXRpYWwtc2NhbGU9MS4wLCBtYXhpbXVtLXNjYWxlPTEuMCwgdXNlci1zY2FsYWJsZT1ubyIgLz4KICAgICAgICAgICAgPHN0eWxlPgogICAgICAgICAgICAgICAgI21hcF8yZjhkNGFjYjBmNWQ0OWE0YWRkY2I5Y2I2NjM1ZmNlNiB7CiAgICAgICAgICAgICAgICAgICAgcG9zaXRpb246IHJlbGF0aXZlOwogICAgICAgICAgICAgICAgICAgIHdpZHRoOiAxMDAuMCU7CiAgICAgICAgICAgICAgICAgICAgaGVpZ2h0OiAxMDAuMCU7CiAgICAgICAgICAgICAgICAgICAgbGVmdDogMC4wJTsKICAgICAgICAgICAgICAgICAgICB0b3A6IDAuMCU7CiAgICAgICAgICAgICAgICB9CiAgICAgICAgICAgIDwvc3R5bGU+CiAgICAgICAgCjwvaGVhZD4KPGJvZHk+ICAgIAogICAgCiAgICAgICAgICAgIDxkaXYgY2xhc3M9ImZvbGl1bS1tYXAiIGlkPSJtYXBfMmY4ZDRhY2IwZjVkNDlhNGFkZGNiOWNiNjYzNWZjZTYiID48L2Rpdj4KICAgICAgICAKPC9ib2R5Pgo8c2NyaXB0PiAgICAKICAgIAogICAgICAgICAgICB2YXIgbWFwXzJmOGQ0YWNiMGY1ZDQ5YTRhZGRjYjljYjY2MzVmY2U2ID0gTC5tYXAoCiAgICAgICAgICAgICAgICAibWFwXzJmOGQ0YWNiMGY1ZDQ5YTRhZGRjYjljYjY2MzVmY2U2IiwKICAgICAgICAgICAgICAgIHsKICAgICAgICAgICAgICAgICAgICBjZW50ZXI6IFs0My42NTM5NjMsIC03OS4zODcyMDddLAogICAgICAgICAgICAgICAgICAgIGNyczogTC5DUlMuRVBTRzM4NTcsCiAgICAgICAgICAgICAgICAgICAgem9vbTogMTEsCiAgICAgICAgICAgICAgICAgICAgem9vbUNvbnRyb2w6IHRydWUsCiAgICAgICAgICAgICAgICAgICAgcHJlZmVyQ2FudmFzOiBmYWxzZSwKICAgICAgICAgICAgICAgIH0KICAgICAgICAgICAgKTsKCiAgICAgICAgICAgIAoKICAgICAgICAKICAgIAogICAgICAgICAgICB2YXIgdGlsZV9sYXllcl9jNjdmNDY3NmNiZDA0YmM2OGQ5NTkxMjk0NjkwNTlmNiA9IEwudGlsZUxheWVyKAogICAgICAgICAgICAgICAgImh0dHBzOi8ve3N9LnRpbGUub3BlbnN0cmVldG1hcC5vcmcve3p9L3t4fS97eX0ucG5nIiwKICAgICAgICAgICAgICAgIHsiYXR0cmlidXRpb24iOiAiRGF0YSBieSBcdTAwMjZjb3B5OyBcdTAwM2NhIGhyZWY9XCJodHRwOi8vb3BlbnN0cmVldG1hcC5vcmdcIlx1MDAzZU9wZW5TdHJlZXRNYXBcdTAwM2MvYVx1MDAzZSwgdW5kZXIgXHUwMDNjYSBocmVmPVwiaHR0cDovL3d3dy5vcGVuc3RyZWV0bWFwLm9yZy9jb3B5cmlnaHRcIlx1MDAzZU9EYkxcdTAwM2MvYVx1MDAzZS4iLCAiZGV0ZWN0UmV0aW5hIjogZmFsc2UsICJtYXhOYXRpdmVab29tIjogMTgsICJtYXhab29tIjogMTgsICJtaW5ab29tIjogMCwgIm5vV3JhcCI6IGZhbHNlLCAib3BhY2l0eSI6IDEsICJzdWJkb21haW5zIjogImFiYyIsICJ0bXMiOiBmYWxzZX0KICAgICAgICAgICAgKS5hZGRUbyhtYXBfMmY4ZDRhY2IwZjVkNDlhNGFkZGNiOWNiNjYzNWZjZTYpOwogICAgICAgIAogICAgCiAgICAgICAgICAgIHZhciBjaXJjbGVfbWFya2VyXzNjOGZmZDY4N2U4NjQzZjZhYmM2N2ExMmQ3ZTkyMmU5ID0gTC5jaXJjbGVNYXJrZXIoCiAgICAgICAgICAgICAgICBbNDMuODExNTI1MDAwMDAwMDc0LCAtNzkuMTk1NTE3MjEzOTk5OTVdLAogICAgICAgICAgICAgICAgeyJidWJibGluZ01vdXNlRXZlbnRzIjogdHJ1ZSwgImNvbG9yIjogIiNmZjAwMDAiLCAiZGFzaEFycmF5IjogbnVsbCwgImRhc2hPZmZzZXQiOiBudWxsLCAiZmlsbCI6IHRydWUsICJmaWxsQ29sb3IiOiAiI2ZmMDAwMCIsICJmaWxsT3BhY2l0eSI6IDAuNywgImZpbGxSdWxlIjogImV2ZW5vZGQiLCAibGluZUNhcCI6ICJyb3VuZCIsICJsaW5lSm9pbiI6ICJyb3VuZCIsICJvcGFjaXR5IjogMS4wLCAicmFkaXVzIjogNSwgInN0cm9rZSI6IHRydWUsICJ3ZWlnaHQiOiAzfQogICAgICAgICAgICApLmFkZFRvKG1hcF8yZjhkNGFjYjBmNWQ0OWE0YWRkY2I5Y2I2NjM1ZmNlNik7CiAgICAgICAgCiAgICAKICAgICAgICB2YXIgcG9wdXBfZjZmMmI2Mzc2YTcyNDZkZTg5MzkwNmQwMGQ4ODI0NzEgPSBMLnBvcHVwKHsibWF4V2lkdGgiOiAiMTAwJSJ9KTsKCiAgICAgICAgCiAgICAgICAgICAgIHZhciBodG1sX2E5YjBlMDA4ZGQ3ZDQ4NWVhMTUxOTAwODhiYjUzNGEwID0gJChgPGRpdiBpZD0iaHRtbF9hOWIwZTAwOGRkN2Q0ODVlYTE1MTkwMDg4YmI1MzRhMCIgc3R5bGU9IndpZHRoOiAxMDAuMCU7IGhlaWdodDogMTAwLjAlOyI+Um91Z2UsIE1hbHZlcm4gQ2x1c3RlciAwPC9kaXY+YClbMF07CiAgICAgICAgICAgIHBvcHVwX2Y2ZjJiNjM3NmE3MjQ2ZGU4OTM5MDZkMDBkODgyNDcxLnNldENvbnRlbnQoaHRtbF9hOWIwZTAwOGRkN2Q0ODVlYTE1MTkwMDg4YmI1MzRhMCk7CiAgICAgICAgCgogICAgICAgIGNpcmNsZV9tYXJrZXJfM2M4ZmZkNjg3ZTg2NDNmNmFiYzY3YTEyZDdlOTIyZTkuYmluZFBvcHVwKHBvcHVwX2Y2ZjJiNjM3NmE3MjQ2ZGU4OTM5MDZkMDBkODgyNDcxKQogICAgICAgIDsKCiAgICAgICAgCiAgICAKICAgIAogICAgICAgICAgICB2YXIgY2lyY2xlX21hcmtlcl9mNDA2YjRlZmUwZmE0OGQ1ODg1NWNhZjc4OWM4MGQ5NCA9IEwuY2lyY2xlTWFya2VyKAogICAgICAgICAgICAgICAgWzQzLjc4NTczMDAwMDAwMDA2LCAtNzkuMTU4NzQ5OTk5OTk5OTRdLAogICAgICAgICAgICAgICAgeyJidWJibGluZ01vdXNlRXZlbnRzIjogdHJ1ZSwgImNvbG9yIjogIiMwMGI1ZWIiLCAiZGFzaEFycmF5IjogbnVsbCwgImRhc2hPZmZzZXQiOiBudWxsLCAiZmlsbCI6IHRydWUsICJmaWxsQ29sb3IiOiAiIzAwYjVlYiIsICJmaWxsT3BhY2l0eSI6IDAuNywgImZpbGxSdWxlIjogImV2ZW5vZGQiLCAibGluZUNhcCI6ICJyb3VuZCIsICJsaW5lSm9pbiI6ICJyb3VuZCIsICJvcGFjaXR5IjogMS4wLCAicmFkaXVzIjogNSwgInN0cm9rZSI6IHRydWUsICJ3ZWlnaHQiOiAzfQogICAgICAgICAgICApLmFkZFRvKG1hcF8yZjhkNGFjYjBmNWQ0OWE0YWRkY2I5Y2I2NjM1ZmNlNik7CiAgICAgICAgCiAgICAKICAgICAgICB2YXIgcG9wdXBfZDYwMTM5MzlmNDJjNDkwZDkxYjUxYjZiYzg1MTQ0YzIgPSBMLnBvcHVwKHsibWF4V2lkdGgiOiAiMTAwJSJ9KTsKCiAgICAgICAgCiAgICAgICAgICAgIHZhciBodG1sXzZkMDc2NmU3NWU5MDRlZTc5MjFiNTBiMmFmNmYyMWZmID0gJChgPGRpdiBpZD0iaHRtbF82ZDA3NjZlNzVlOTA0ZWU3OTIxYjUwYjJhZjZmMjFmZiIgc3R5bGU9IndpZHRoOiAxMDAuMCU7IGhlaWdodDogMTAwLjAlOyI+SGlnaGxhbmQgQ3JlZWssIFJvdWdlIEhpbGwsIFBvcnQgVW5pb24gQ2x1c3RlciAyPC9kaXY+YClbMF07CiAgICAgICAgICAgIHBvcHVwX2Q2MDEzOTM5ZjQyYzQ5MGQ5MWI1MWI2YmM4NTE0NGMyLnNldENvbnRlbnQoaHRtbF82ZDA3NjZlNzVlOTA0ZWU3OTIxYjUwYjJhZjZmMjFmZik7CiAgICAgICAgCgogICAgICAgIGNpcmNsZV9tYXJrZXJfZjQwNmI0ZWZlMGZhNDhkNTg4NTVjYWY3ODljODBkOTQuYmluZFBvcHVwKHBvcHVwX2Q2MDEzOTM5ZjQyYzQ5MGQ5MWI1MWI2YmM4NTE0NGMyKQogICAgICAgIDsKCiAgICAgICAgCiAgICAKICAgIAogICAgICAgICAgICB2YXIgY2lyY2xlX21hcmtlcl82ODVjYmVlNjBkMjI0NDMzOTNlNTgyM2I5NTBlYzVkOSA9IEwuY2lyY2xlTWFya2VyKAogICAgICAgICAgICAgICAgWzQzLjc2NTY5MDAwMDAwMDA2LCAtNzkuMTc1MjU2MDM1OTk5OTVdLAogICAgICAgICAgICAgICAgeyJidWJibGluZ01vdXNlRXZlbnRzIjogdHJ1ZSwgImNvbG9yIjogIiNmZjAwMDAiLCAiZGFzaEFycmF5IjogbnVsbCwgImRhc2hPZmZzZXQiOiBudWxsLCAiZmlsbCI6IHRydWUsICJmaWxsQ29sb3IiOiAiI2ZmMDAwMCIsICJmaWxsT3BhY2l0eSI6IDAuNywgImZpbGxSdWxlIjogImV2ZW5vZGQiLCAibGluZUNhcCI6ICJyb3VuZCIsICJsaW5lSm9pbiI6ICJyb3VuZCIsICJvcGFjaXR5IjogMS4wLCAicmFkaXVzIjogNSwgInN0cm9rZSI6IHRydWUsICJ3ZWlnaHQiOiAzfQogICAgICAgICAgICApLmFkZFRvKG1hcF8yZjhkNGFjYjBmNWQ0OWE0YWRkY2I5Y2I2NjM1ZmNlNik7CiAgICAgICAgCiAgICAKICAgICAgICB2YXIgcG9wdXBfMjljMTgwMDU5MzIyNGFiOTgzYzg4NGVhOWQzZTMzN2YgPSBMLnBvcHVwKHsibWF4V2lkdGgiOiAiMTAwJSJ9KTsKCiAgICAgICAgCiAgICAgICAgICAgIHZhciBodG1sXzA0N2RlMTVhZTgzMTRhZjY5MDc3YWMzNmYzYzMwOGJkID0gJChgPGRpdiBpZD0iaHRtbF8wNDdkZTE1YWU4MzE0YWY2OTA3N2FjMzZmM2MzMDhiZCIgc3R5bGU9IndpZHRoOiAxMDAuMCU7IGhlaWdodDogMTAwLjAlOyI+R3VpbGR3b29kLCBNb3JuaW5nc2lkZSwgV2VzdCBIaWxsIENsdXN0ZXIgMDwvZGl2PmApWzBdOwogICAgICAgICAgICBwb3B1cF8yOWMxODAwNTkzMjI0YWI5ODNjODg0ZWE5ZDNlMzM3Zi5zZXRDb250ZW50KGh0bWxfMDQ3ZGUxNWFlODMxNGFmNjkwNzdhYzM2ZjNjMzA4YmQpOwogICAgICAgIAoKICAgICAgICBjaXJjbGVfbWFya2VyXzY4NWNiZWU2MGQyMjQ0MzM5M2U1ODIzYjk1MGVjNWQ5LmJpbmRQb3B1cChwb3B1cF8yOWMxODAwNTkzMjI0YWI5ODNjODg0ZWE5ZDNlMzM3ZikKICAgICAgICA7CgogICAgICAgIAogICAgCiAgICAKICAgICAgICAgICAgdmFyIGNpcmNsZV9tYXJrZXJfZWFiYjMyZWNkMDUzNGEwY2ExNmM5OWVmMDg5ZDJjODYgPSBMLmNpcmNsZU1hcmtlcigKICAgICAgICAgICAgICAgIFs0My43NjgzNTkxMjEwMDAwNiwgLTc5LjIxNzU4OTk5OTk5OTk3XSwKICAgICAgICAgICAgICAgIHsiYnViYmxpbmdNb3VzZUV2ZW50cyI6IHRydWUsICJjb2xvciI6ICIjODAwMGZmIiwgImRhc2hBcnJheSI6IG51bGwsICJkYXNoT2Zmc2V0IjogbnVsbCwgImZpbGwiOiB0cnVlLCAiZmlsbENvbG9yIjogIiM4MDAwZmYiLCAiZmlsbE9wYWNpdHkiOiAwLjcsICJmaWxsUnVsZSI6ICJldmVub2RkIiwgImxpbmVDYXAiOiAicm91bmQiLCAibGluZUpvaW4iOiAicm91bmQiLCAib3BhY2l0eSI6IDEuMCwgInJhZGl1cyI6IDUsICJzdHJva2UiOiB0cnVlLCAid2VpZ2h0IjogM30KICAgICAgICAgICAgKS5hZGRUbyhtYXBfMmY4ZDRhY2IwZjVkNDlhNGFkZGNiOWNiNjYzNWZjZTYpOwogICAgICAgIAogICAgCiAgICAgICAgdmFyIHBvcHVwX2MwODY4MmQ3OWY4MjQwOTk5NTYyYjVkMzBlODA0MjVhID0gTC5wb3B1cCh7Im1heFdpZHRoIjogIjEwMCUifSk7CgogICAgICAgIAogICAgICAgICAgICB2YXIgaHRtbF9iMDU3M2UxZmEyNjE0MDkwOTIxNGY5MTY5YWZhM2Q2MiA9ICQoYDxkaXYgaWQ9Imh0bWxfYjA1NzNlMWZhMjYxNDA5MDkyMTRmOTE2OWFmYTNkNjIiIHN0eWxlPSJ3aWR0aDogMTAwLjAlOyBoZWlnaHQ6IDEwMC4wJTsiPldvYnVybiBDbHVzdGVyIDE8L2Rpdj5gKVswXTsKICAgICAgICAgICAgcG9wdXBfYzA4NjgyZDc5ZjgyNDA5OTk1NjJiNWQzMGU4MDQyNWEuc2V0Q29udGVudChodG1sX2IwNTczZTFmYTI2MTQwOTA5MjE0ZjkxNjlhZmEzZDYyKTsKICAgICAgICAKCiAgICAgICAgY2lyY2xlX21hcmtlcl9lYWJiMzJlY2QwNTM0YTBjYTE2Yzk5ZWYwODlkMmM4Ni5iaW5kUG9wdXAocG9wdXBfYzA4NjgyZDc5ZjgyNDA5OTk1NjJiNWQzMGU4MDQyNWEpCiAgICAgICAgOwoKICAgICAgICAKICAgIAogICAgCiAgICAgICAgICAgIHZhciBjaXJjbGVfbWFya2VyX2U4M2JmYzVhODkwMjQwOWJiZWYyMzZkYjk3MDdlYTYwID0gTC5jaXJjbGVNYXJrZXIoCiAgICAgICAgICAgICAgICBbNDMuNzY5Njg3OTk5MDAwMDQsIC03OS4yMzk0Mzk5OTk5OTk5NV0sCiAgICAgICAgICAgICAgICB7ImJ1YmJsaW5nTW91c2VFdmVudHMiOiB0cnVlLCAiY29sb3IiOiAiI2ZmMDAwMCIsICJkYXNoQXJyYXkiOiBudWxsLCAiZGFzaE9mZnNldCI6IG51bGwsICJmaWxsIjogdHJ1ZSwgImZpbGxDb2xvciI6ICIjZmYwMDAwIiwgImZpbGxPcGFjaXR5IjogMC43LCAiZmlsbFJ1bGUiOiAiZXZlbm9kZCIsICJsaW5lQ2FwIjogInJvdW5kIiwgImxpbmVKb2luIjogInJvdW5kIiwgIm9wYWNpdHkiOiAxLjAsICJyYWRpdXMiOiA1LCAic3Ryb2tlIjogdHJ1ZSwgIndlaWdodCI6IDN9CiAgICAgICAgICAgICkuYWRkVG8obWFwXzJmOGQ0YWNiMGY1ZDQ5YTRhZGRjYjljYjY2MzVmY2U2KTsKICAgICAgICAKICAgIAogICAgICAgIHZhciBwb3B1cF82OTgwOGQ4NTkwOWI0OTYwYTc4NjdhNjVmMThmNzQ0ZSA9IEwucG9wdXAoeyJtYXhXaWR0aCI6ICIxMDAlIn0pOwoKICAgICAgICAKICAgICAgICAgICAgdmFyIGh0bWxfZDIzZWI3YTEzMzc5NDQxYmExZWMyMWIwYjcxNzc0ZWEgPSAkKGA8ZGl2IGlkPSJodG1sX2QyM2ViN2ExMzM3OTQ0MWJhMWVjMjFiMGI3MTc3NGVhIiBzdHlsZT0id2lkdGg6IDEwMC4wJTsgaGVpZ2h0OiAxMDAuMCU7Ij5DZWRhcmJyYWUgQ2x1c3RlciAwPC9kaXY+YClbMF07CiAgICAgICAgICAgIHBvcHVwXzY5ODA4ZDg1OTA5YjQ5NjBhNzg2N2E2NWYxOGY3NDRlLnNldENvbnRlbnQoaHRtbF9kMjNlYjdhMTMzNzk0NDFiYTFlYzIxYjBiNzE3NzRlYSk7CiAgICAgICAgCgogICAgICAgIGNpcmNsZV9tYXJrZXJfZTgzYmZjNWE4OTAyNDA5YmJlZjIzNmRiOTcwN2VhNjAuYmluZFBvcHVwKHBvcHVwXzY5ODA4ZDg1OTA5YjQ5NjBhNzg2N2E2NWYxOGY3NDRlKQogICAgICAgIDsKCiAgICAgICAgCiAgICAKICAgIAogICAgICAgICAgICB2YXIgY2lyY2xlX21hcmtlcl82ZGU1ZjNhMDYzZjI0MTIzODMyMmRmMzJlNDViOGFiNyA9IEwuY2lyY2xlTWFya2VyKAogICAgICAgICAgICAgICAgWzQzLjc0MzEyNTAwMDAwMDA4LCAtNzkuMjMxNzQ5NzM1OTk5OThdLAogICAgICAgICAgICAgICAgeyJidWJibGluZ01vdXNlRXZlbnRzIjogdHJ1ZSwgImNvbG9yIjogIiNmZjAwMDAiLCAiZGFzaEFycmF5IjogbnVsbCwgImRhc2hPZmZzZXQiOiBudWxsLCAiZmlsbCI6IHRydWUsICJmaWxsQ29sb3IiOiAiI2ZmMDAwMCIsICJmaWxsT3BhY2l0eSI6IDAuNywgImZpbGxSdWxlIjogImV2ZW5vZGQiLCAibGluZUNhcCI6ICJyb3VuZCIsICJsaW5lSm9pbiI6ICJyb3VuZCIsICJvcGFjaXR5IjogMS4wLCAicmFkaXVzIjogNSwgInN0cm9rZSI6IHRydWUsICJ3ZWlnaHQiOiAzfQogICAgICAgICAgICApLmFkZFRvKG1hcF8yZjhkNGFjYjBmNWQ0OWE0YWRkY2I5Y2I2NjM1ZmNlNik7CiAgICAgICAgCiAgICAKICAgICAgICB2YXIgcG9wdXBfMjQxMDJlM2Y3ZmYwNDQwN2ExYTIyNjhiMjVkNWFkMTcgPSBMLnBvcHVwKHsibWF4V2lkdGgiOiAiMTAwJSJ9KTsKCiAgICAgICAgCiAgICAgICAgICAgIHZhciBodG1sXzAwYTA3OWViZjQwNDQyMmRhMjQzMzI5M2I2OTc3YmFhID0gJChgPGRpdiBpZD0iaHRtbF8wMGEwNzllYmY0MDQ0MjJkYTI0MzMyOTNiNjk3N2JhYSIgc3R5bGU9IndpZHRoOiAxMDAuMCU7IGhlaWdodDogMTAwLjAlOyI+U2NhcmJvcm91Z2ggVmlsbGFnZSBDbHVzdGVyIDA8L2Rpdj5gKVswXTsKICAgICAgICAgICAgcG9wdXBfMjQxMDJlM2Y3ZmYwNDQwN2ExYTIyNjhiMjVkNWFkMTcuc2V0Q29udGVudChodG1sXzAwYTA3OWViZjQwNDQyMmRhMjQzMzI5M2I2OTc3YmFhKTsKICAgICAgICAKCiAgICAgICAgY2lyY2xlX21hcmtlcl82ZGU1ZjNhMDYzZjI0MTIzODMyMmRmMzJlNDViOGFiNy5iaW5kUG9wdXAocG9wdXBfMjQxMDJlM2Y3ZmYwNDQwN2ExYTIyNjhiMjVkNWFkMTcpCiAgICAgICAgOwoKICAgICAgICAKICAgIAogICAgCiAgICAgICAgICAgIHZhciBjaXJjbGVfbWFya2VyXzJkZTRkNThhYmJjOTQ2YjA4NWNmNTI3ZDAyNThjMDczID0gTC5jaXJjbGVNYXJrZXIoCiAgICAgICAgICAgICAgICBbNDMuNzI2MjQ0NTg1MDAwMDc0LCAtNzkuMjYzNjY5OTk5OTk5OTNdLAogICAgICAgICAgICAgICAgeyJidWJibGluZ01vdXNlRXZlbnRzIjogdHJ1ZSwgImNvbG9yIjogIiNmZjAwMDAiLCAiZGFzaEFycmF5IjogbnVsbCwgImRhc2hPZmZzZXQiOiBudWxsLCAiZmlsbCI6IHRydWUsICJmaWxsQ29sb3IiOiAiI2ZmMDAwMCIsICJmaWxsT3BhY2l0eSI6IDAuNywgImZpbGxSdWxlIjogImV2ZW5vZGQiLCAibGluZUNhcCI6ICJyb3VuZCIsICJsaW5lSm9pbiI6ICJyb3VuZCIsICJvcGFjaXR5IjogMS4wLCAicmFkaXVzIjogNSwgInN0cm9rZSI6IHRydWUsICJ3ZWlnaHQiOiAzfQogICAgICAgICAgICApLmFkZFRvKG1hcF8yZjhkNGFjYjBmNWQ0OWE0YWRkY2I5Y2I2NjM1ZmNlNik7CiAgICAgICAgCiAgICAKICAgICAgICB2YXIgcG9wdXBfYzAwYjJmNWQ2ZjM4NDA1ZTk5NzU0NWJhNjhiYjdmYzIgPSBMLnBvcHVwKHsibWF4V2lkdGgiOiAiMTAwJSJ9KTsKCiAgICAgICAgCiAgICAgICAgICAgIHZhciBodG1sX2YxNDliNDRlODE3ZTRkMDE5YjA4NzU3MGFkMzIxNTI5ID0gJChgPGRpdiBpZD0iaHRtbF9mMTQ5YjQ0ZTgxN2U0ZDAxOWIwODc1NzBhZDMyMTUyOSIgc3R5bGU9IndpZHRoOiAxMDAuMCU7IGhlaWdodDogMTAwLjAlOyI+RWFzdCBCaXJjaG1vdW50IFBhcmssIElvbnZpZXcsIEtlbm5lZHkgUGFyayBDbHVzdGVyIDA8L2Rpdj5gKVswXTsKICAgICAgICAgICAgcG9wdXBfYzAwYjJmNWQ2ZjM4NDA1ZTk5NzU0NWJhNjhiYjdmYzIuc2V0Q29udGVudChodG1sX2YxNDliNDRlODE3ZTRkMDE5YjA4NzU3MGFkMzIxNTI5KTsKICAgICAgICAKCiAgICAgICAgY2lyY2xlX21hcmtlcl8yZGU0ZDU4YWJiYzk0NmIwODVjZjUyN2QwMjU4YzA3My5iaW5kUG9wdXAocG9wdXBfYzAwYjJmNWQ2ZjM4NDA1ZTk5NzU0NWJhNjhiYjdmYzIpCiAgICAgICAgOwoKICAgICAgICAKICAgIAogICAgCiAgICAgICAgICAgIHZhciBjaXJjbGVfbWFya2VyX2VmM2E3MDI4ZjUzYzRlYmJhNjYzMGNmN2JmZjUxZWNhID0gTC5jaXJjbGVNYXJrZXIoCiAgICAgICAgICAgICAgICBbNDMuNzEzMTMzMjExMDAwMDcsIC03OS4yODUwNTQ5OTk5OTk5NF0sCiAgICAgICAgICAgICAgICB7ImJ1YmJsaW5nTW91c2VFdmVudHMiOiB0cnVlLCAiY29sb3IiOiAiI2ZmMDAwMCIsICJkYXNoQXJyYXkiOiBudWxsLCAiZGFzaE9mZnNldCI6IG51bGwsICJmaWxsIjogdHJ1ZSwgImZpbGxDb2xvciI6ICIjZmYwMDAwIiwgImZpbGxPcGFjaXR5IjogMC43LCAiZmlsbFJ1bGUiOiAiZXZlbm9kZCIsICJsaW5lQ2FwIjogInJvdW5kIiwgImxpbmVKb2luIjogInJvdW5kIiwgIm9wYWNpdHkiOiAxLjAsICJyYWRpdXMiOiA1LCAic3Ryb2tlIjogdHJ1ZSwgIndlaWdodCI6IDN9CiAgICAgICAgICAgICkuYWRkVG8obWFwXzJmOGQ0YWNiMGY1ZDQ5YTRhZGRjYjljYjY2MzVmY2U2KTsKICAgICAgICAKICAgIAogICAgICAgIHZhciBwb3B1cF81MTVhYjI2ZjFkOTg0NmVkYWQxNWViNWRiN2E1ZjZlYSA9IEwucG9wdXAoeyJtYXhXaWR0aCI6ICIxMDAlIn0pOwoKICAgICAgICAKICAgICAgICAgICAgdmFyIGh0bWxfM2U3ZjI3M2QzODA1NDZlMzk3MWNmODQxOGUzNjU4ZjAgPSAkKGA8ZGl2IGlkPSJodG1sXzNlN2YyNzNkMzgwNTQ2ZTM5NzFjZjg0MThlMzY1OGYwIiBzdHlsZT0id2lkdGg6IDEwMC4wJTsgaGVpZ2h0OiAxMDAuMCU7Ij5DbGFpcmxlYSwgR29sZGVuIE1pbGUsIE9ha3JpZGdlIENsdXN0ZXIgMDwvZGl2PmApWzBdOwogICAgICAgICAgICBwb3B1cF81MTVhYjI2ZjFkOTg0NmVkYWQxNWViNWRiN2E1ZjZlYS5zZXRDb250ZW50KGh0bWxfM2U3ZjI3M2QzODA1NDZlMzk3MWNmODQxOGUzNjU4ZjApOwogICAgICAgIAoKICAgICAgICBjaXJjbGVfbWFya2VyX2VmM2E3MDI4ZjUzYzRlYmJhNjYzMGNmN2JmZjUxZWNhLmJpbmRQb3B1cChwb3B1cF81MTVhYjI2ZjFkOTg0NmVkYWQxNWViNWRiN2E1ZjZlYSkKICAgICAgICA7CgogICAgICAgIAogICAgCiAgICAKICAgICAgICAgICAgdmFyIGNpcmNsZV9tYXJrZXJfZTliMDU4N2Q2YTdhNDdkZTk0MzVhZjZjMmExNDYyZTYgPSBMLmNpcmNsZU1hcmtlcigKICAgICAgICAgICAgICAgIFs0My43MjM1NzUwMDAwMDAwNCwgLTc5LjIzNDk3NjE3Nzk5OTk1XSwKICAgICAgICAgICAgICAgIHsiYnViYmxpbmdNb3VzZUV2ZW50cyI6IHRydWUsICJjb2xvciI6ICIjZmYwMDAwIiwgImRhc2hBcnJheSI6IG51bGwsICJkYXNoT2Zmc2V0IjogbnVsbCwgImZpbGwiOiB0cnVlLCAiZmlsbENvbG9yIjogIiNmZjAwMDAiLCAiZmlsbE9wYWNpdHkiOiAwLjcsICJmaWxsUnVsZSI6ICJldmVub2RkIiwgImxpbmVDYXAiOiAicm91bmQiLCAibGluZUpvaW4iOiAicm91bmQiLCAib3BhY2l0eSI6IDEuMCwgInJhZGl1cyI6IDUsICJzdHJva2UiOiB0cnVlLCAid2VpZ2h0IjogM30KICAgICAgICAgICAgKS5hZGRUbyhtYXBfMmY4ZDRhY2IwZjVkNDlhNGFkZGNiOWNiNjYzNWZjZTYpOwogICAgICAgIAogICAgCiAgICAgICAgdmFyIHBvcHVwXzA5Mjk0M2RkY2Y4NjQ2NmI5MGZiYTM1OWQ0YWMxOWVmID0gTC5wb3B1cCh7Im1heFdpZHRoIjogIjEwMCUifSk7CgogICAgICAgIAogICAgICAgICAgICB2YXIgaHRtbF80OTgzNGUzODg5NjY0ZDAwOTlhMzM3MGUwM2U3Njc0ZSA9ICQoYDxkaXYgaWQ9Imh0bWxfNDk4MzRlMzg4OTY2NGQwMDk5YTMzNzBlMDNlNzY3NGUiIHN0eWxlPSJ3aWR0aDogMTAwLjAlOyBoZWlnaHQ6IDEwMC4wJTsiPkNsaWZmY3Jlc3QsIENsaWZmc2lkZSwgU2NhcmJvcm91Z2ggVmlsbGFnZSBXZXN0IENsdXN0ZXIgMDwvZGl2PmApWzBdOwogICAgICAgICAgICBwb3B1cF8wOTI5NDNkZGNmODY0NjZiOTBmYmEzNTlkNGFjMTllZi5zZXRDb250ZW50KGh0bWxfNDk4MzRlMzg4OTY2NGQwMDk5YTMzNzBlMDNlNzY3NGUpOwogICAgICAgIAoKICAgICAgICBjaXJjbGVfbWFya2VyX2U5YjA1ODdkNmE3YTQ3ZGU5NDM1YWY2YzJhMTQ2MmU2LmJpbmRQb3B1cChwb3B1cF8wOTI5NDNkZGNmODY0NjZiOTBmYmEzNTlkNGFjMTllZikKICAgICAgICA7CgogICAgICAgIAogICAgCiAgICAKICAgICAgICAgICAgdmFyIGNpcmNsZV9tYXJrZXJfZjBlZjkwMWQ4NzVkNGU3YjlhN2FjODY5Zjk5MjljMDkgPSBMLmNpcmNsZU1hcmtlcigKICAgICAgICAgICAgICAgIFs0My42OTY2NjUwMDAwMDAwNSwgLTc5LjI2MDE2MzMxNTk5OTk5XSwKICAgICAgICAgICAgICAgIHsiYnViYmxpbmdNb3VzZUV2ZW50cyI6IHRydWUsICJjb2xvciI6ICIjODBmZmI0IiwgImRhc2hBcnJheSI6IG51bGwsICJkYXNoT2Zmc2V0IjogbnVsbCwgImZpbGwiOiB0cnVlLCAiZmlsbENvbG9yIjogIiM4MGZmYjQiLCAiZmlsbE9wYWNpdHkiOiAwLjcsICJmaWxsUnVsZSI6ICJldmVub2RkIiwgImxpbmVDYXAiOiAicm91bmQiLCAibGluZUpvaW4iOiAicm91bmQiLCAib3BhY2l0eSI6IDEuMCwgInJhZGl1cyI6IDUsICJzdHJva2UiOiB0cnVlLCAid2VpZ2h0IjogM30KICAgICAgICAgICAgKS5hZGRUbyhtYXBfMmY4ZDRhY2IwZjVkNDlhNGFkZGNiOWNiNjYzNWZjZTYpOwogICAgICAgIAogICAgCiAgICAgICAgdmFyIHBvcHVwX2FiZjA2OGFmNGI5NTRlNWM5NzlmZGZjZjdjYjAyMWY5ID0gTC5wb3B1cCh7Im1heFdpZHRoIjogIjEwMCUifSk7CgogICAgICAgIAogICAgICAgICAgICB2YXIgaHRtbF9hOTA1ZjFhYjFmNWE0OWVlODI0ODQxNjJlYWFhNzk2NSA9ICQoYDxkaXYgaWQ9Imh0bWxfYTkwNWYxYWIxZjVhNDllZTgyNDg0MTYyZWFhYTc5NjUiIHN0eWxlPSJ3aWR0aDogMTAwLjAlOyBoZWlnaHQ6IDEwMC4wJTsiPkJpcmNoIENsaWZmLCBDbGlmZnNpZGUgV2VzdCBDbHVzdGVyIDM8L2Rpdj5gKVswXTsKICAgICAgICAgICAgcG9wdXBfYWJmMDY4YWY0Yjk1NGU1Yzk3OWZkZmNmN2NiMDIxZjkuc2V0Q29udGVudChodG1sX2E5MDVmMWFiMWY1YTQ5ZWU4MjQ4NDE2MmVhYWE3OTY1KTsKICAgICAgICAKCiAgICAgICAgY2lyY2xlX21hcmtlcl9mMGVmOTAxZDg3NWQ0ZTdiOWE3YWM4NjlmOTkyOWMwOS5iaW5kUG9wdXAocG9wdXBfYWJmMDY4YWY0Yjk1NGU1Yzk3OWZkZmNmN2NiMDIxZjkpCiAgICAgICAgOwoKICAgICAgICAKICAgIAogICAgCiAgICAgICAgICAgIHZhciBjaXJjbGVfbWFya2VyX2Q2YTM0OTM2OWQxYzRjNzY4N2ZkOTQxMTk1MDg3ZDkzID0gTC5jaXJjbGVNYXJrZXIoCiAgICAgICAgICAgICAgICBbNDMuNzU5OTc1MDAwMDAwMDU0LCAtNzkuMjY4OTc0MDI4OTk5OTNdLAogICAgICAgICAgICAgICAgeyJidWJibGluZ01vdXNlRXZlbnRzIjogdHJ1ZSwgImNvbG9yIjogIiM4MGZmYjQiLCAiZGFzaEFycmF5IjogbnVsbCwgImRhc2hPZmZzZXQiOiBudWxsLCAiZmlsbCI6IHRydWUsICJmaWxsQ29sb3IiOiAiIzgwZmZiNCIsICJmaWxsT3BhY2l0eSI6IDAuNywgImZpbGxSdWxlIjogImV2ZW5vZGQiLCAibGluZUNhcCI6ICJyb3VuZCIsICJsaW5lSm9pbiI6ICJyb3VuZCIsICJvcGFjaXR5IjogMS4wLCAicmFkaXVzIjogNSwgInN0cm9rZSI6IHRydWUsICJ3ZWlnaHQiOiAzfQogICAgICAgICAgICApLmFkZFRvKG1hcF8yZjhkNGFjYjBmNWQ0OWE0YWRkY2I5Y2I2NjM1ZmNlNik7CiAgICAgICAgCiAgICAKICAgICAgICB2YXIgcG9wdXBfMmE5NTZhNjc1Yjk3NGY4YTkyN2IxMWJiMzNlNTAyNTkgPSBMLnBvcHVwKHsibWF4V2lkdGgiOiAiMTAwJSJ9KTsKCiAgICAgICAgCiAgICAgICAgICAgIHZhciBodG1sX2E1M2YwZTEwYjdkODRhYmJhMGVmOThiYzc3NmNhYWM1ID0gJChgPGRpdiBpZD0iaHRtbF9hNTNmMGUxMGI3ZDg0YWJiYTBlZjk4YmM3NzZjYWFjNSIgc3R5bGU9IndpZHRoOiAxMDAuMCU7IGhlaWdodDogMTAwLjAlOyI+RG9yc2V0IFBhcmssIFNjYXJib3JvdWdoIFRvd24gQ2VudHJlLCBXZXhmb3JkIEhlaWdodHMgQ2x1c3RlciAzPC9kaXY+YClbMF07CiAgICAgICAgICAgIHBvcHVwXzJhOTU2YTY3NWI5NzRmOGE5MjdiMTFiYjMzZTUwMjU5LnNldENvbnRlbnQoaHRtbF9hNTNmMGUxMGI3ZDg0YWJiYTBlZjk4YmM3NzZjYWFjNSk7CiAgICAgICAgCgogICAgICAgIGNpcmNsZV9tYXJrZXJfZDZhMzQ5MzY5ZDFjNGM3Njg3ZmQ5NDExOTUwODdkOTMuYmluZFBvcHVwKHBvcHVwXzJhOTU2YTY3NWI5NzRmOGE5MjdiMTFiYjMzZTUwMjU5KQogICAgICAgIDsKCiAgICAgICAgCiAgICAKICAgIAogICAgICAgICAgICB2YXIgY2lyY2xlX21hcmtlcl83OTI4YmVjZGIwMzQ0MDgyYThmYzEzYTA5ZTdlOGMzMiA9IEwuY2lyY2xlTWFya2VyKAogICAgICAgICAgICAgICAgWzQzLjc1MDcxMDQ2NDAwMDA2NSwgLTc5LjMwMDU1OTk5OTk5OTk2XSwKICAgICAgICAgICAgICAgIHsiYnViYmxpbmdNb3VzZUV2ZW50cyI6IHRydWUsICJjb2xvciI6ICIjZmYwMDAwIiwgImRhc2hBcnJheSI6IG51bGwsICJkYXNoT2Zmc2V0IjogbnVsbCwgImZpbGwiOiB0cnVlLCAiZmlsbENvbG9yIjogIiNmZjAwMDAiLCAiZmlsbE9wYWNpdHkiOiAwLjcsICJmaWxsUnVsZSI6ICJldmVub2RkIiwgImxpbmVDYXAiOiAicm91bmQiLCAibGluZUpvaW4iOiAicm91bmQiLCAib3BhY2l0eSI6IDEuMCwgInJhZGl1cyI6IDUsICJzdHJva2UiOiB0cnVlLCAid2VpZ2h0IjogM30KICAgICAgICAgICAgKS5hZGRUbyhtYXBfMmY4ZDRhY2IwZjVkNDlhNGFkZGNiOWNiNjYzNWZjZTYpOwogICAgICAgIAogICAgCiAgICAgICAgdmFyIHBvcHVwXzgwMjkxNzQxYWMxMzRmNzJiM2Q3ODAwYjgyYTc3ZjE4ID0gTC5wb3B1cCh7Im1heFdpZHRoIjogIjEwMCUifSk7CgogICAgICAgIAogICAgICAgICAgICB2YXIgaHRtbF9lNzA0Zjc2OThlMWU0OWVmYjcwY2JiM2I4ZDQyOTYzZCA9ICQoYDxkaXYgaWQ9Imh0bWxfZTcwNGY3Njk4ZTFlNDllZmI3MGNiYjNiOGQ0Mjk2M2QiIHN0eWxlPSJ3aWR0aDogMTAwLjAlOyBoZWlnaHQ6IDEwMC4wJTsiPk1hcnl2YWxlLCBXZXhmb3JkIENsdXN0ZXIgMDwvZGl2PmApWzBdOwogICAgICAgICAgICBwb3B1cF84MDI5MTc0MWFjMTM0ZjcyYjNkNzgwMGI4MmE3N2YxOC5zZXRDb250ZW50KGh0bWxfZTcwNGY3Njk4ZTFlNDllZmI3MGNiYjNiOGQ0Mjk2M2QpOwogICAgICAgIAoKICAgICAgICBjaXJjbGVfbWFya2VyXzc5MjhiZWNkYjAzNDQwODJhOGZjMTNhMDllN2U4YzMyLmJpbmRQb3B1cChwb3B1cF84MDI5MTc0MWFjMTM0ZjcyYjNkNzgwMGI4MmE3N2YxOCkKICAgICAgICA7CgogICAgICAgIAogICAgCiAgICAKICAgICAgICAgICAgdmFyIGNpcmNsZV9tYXJrZXJfZTA2N2RiMzUxYzBlNDNlN2FlYzViZjJlNzIxYjNhOTUgPSBMLmNpcmNsZU1hcmtlcigKICAgICAgICAgICAgICAgIFs0My43OTM5NDAwMDAwMDAwOCwgLTc5LjI2Nzk4MjgwMDk5OTk2XSwKICAgICAgICAgICAgICAgIHsiYnViYmxpbmdNb3VzZUV2ZW50cyI6IHRydWUsICJjb2xvciI6ICIjZmZiMzYwIiwgImRhc2hBcnJheSI6IG51bGwsICJkYXNoT2Zmc2V0IjogbnVsbCwgImZpbGwiOiB0cnVlLCAiZmlsbENvbG9yIjogIiNmZmIzNjAiLCAiZmlsbE9wYWNpdHkiOiAwLjcsICJmaWxsUnVsZSI6ICJldmVub2RkIiwgImxpbmVDYXAiOiAicm91bmQiLCAibGluZUpvaW4iOiAicm91bmQiLCAib3BhY2l0eSI6IDEuMCwgInJhZGl1cyI6IDUsICJzdHJva2UiOiB0cnVlLCAid2VpZ2h0IjogM30KICAgICAgICAgICAgKS5hZGRUbyhtYXBfMmY4ZDRhY2IwZjVkNDlhNGFkZGNiOWNiNjYzNWZjZTYpOwogICAgICAgIAogICAgCiAgICAgICAgdmFyIHBvcHVwXzc5OTQzYjc5ZWQ2MDQxZDdhMTRjYmU1YjRjMjU2Y2M1ID0gTC5wb3B1cCh7Im1heFdpZHRoIjogIjEwMCUifSk7CgogICAgICAgIAogICAgICAgICAgICB2YXIgaHRtbF80OTJmYzU0ZTg4ZDQ0ZjgzOGQ5YjgzNWQ2YjAxZjY1OCA9ICQoYDxkaXYgaWQ9Imh0bWxfNDkyZmM1NGU4OGQ0NGY4MzhkOWI4MzVkNmIwMWY2NTgiIHN0eWxlPSJ3aWR0aDogMTAwLjAlOyBoZWlnaHQ6IDEwMC4wJTsiPkFnaW5jb3VydCBDbHVzdGVyIDQ8L2Rpdj5gKVswXTsKICAgICAgICAgICAgcG9wdXBfNzk5NDNiNzllZDYwNDFkN2ExNGNiZTViNGMyNTZjYzUuc2V0Q29udGVudChodG1sXzQ5MmZjNTRlODhkNDRmODM4ZDliODM1ZDZiMDFmNjU4KTsKICAgICAgICAKCiAgICAgICAgY2lyY2xlX21hcmtlcl9lMDY3ZGIzNTFjMGU0M2U3YWVjNWJmMmU3MjFiM2E5NS5iaW5kUG9wdXAocG9wdXBfNzk5NDNiNzllZDYwNDFkN2ExNGNiZTViNGMyNTZjYzUpCiAgICAgICAgOwoKICAgICAgICAKICAgIAogICAgCiAgICAgICAgICAgIHZhciBjaXJjbGVfbWFya2VyXzBkMWVhYTIwOTk3NTQ2MGI4MTJhZDQ5ZmUxZjA4MzU1ID0gTC5jaXJjbGVNYXJrZXIoCiAgICAgICAgICAgICAgICBbNDMuNzg0NzI1MDAwMDAwMDQsIC03OS4yOTkwNDY1OTk5OTk5NF0sCiAgICAgICAgICAgICAgICB7ImJ1YmJsaW5nTW91c2VFdmVudHMiOiB0cnVlLCAiY29sb3IiOiAiI2ZmMDAwMCIsICJkYXNoQXJyYXkiOiBudWxsLCAiZGFzaE9mZnNldCI6IG51bGwsICJmaWxsIjogdHJ1ZSwgImZpbGxDb2xvciI6ICIjZmYwMDAwIiwgImZpbGxPcGFjaXR5IjogMC43LCAiZmlsbFJ1bGUiOiAiZXZlbm9kZCIsICJsaW5lQ2FwIjogInJvdW5kIiwgImxpbmVKb2luIjogInJvdW5kIiwgIm9wYWNpdHkiOiAxLjAsICJyYWRpdXMiOiA1LCAic3Ryb2tlIjogdHJ1ZSwgIndlaWdodCI6IDN9CiAgICAgICAgICAgICkuYWRkVG8obWFwXzJmOGQ0YWNiMGY1ZDQ5YTRhZGRjYjljYjY2MzVmY2U2KTsKICAgICAgICAKICAgIAogICAgICAgIHZhciBwb3B1cF84NzU5NGNhZjIwNmI0YjBiOTBjOTc5ZDM0YjliMGY1ZCA9IEwucG9wdXAoeyJtYXhXaWR0aCI6ICIxMDAlIn0pOwoKICAgICAgICAKICAgICAgICAgICAgdmFyIGh0bWxfOGY2NDBjYzlmOWYzNDJlYmI5YTcwMzdlNWI5ODMzZjEgPSAkKGA8ZGl2IGlkPSJodG1sXzhmNjQwY2M5ZjlmMzQyZWJiOWE3MDM3ZTViOTgzM2YxIiBzdHlsZT0id2lkdGg6IDEwMC4wJTsgaGVpZ2h0OiAxMDAuMCU7Ij5DbGFya3MgQ29ybmVycywgU3VsbGl2YW4sIFRhbSBPJiMzOTtTaGFudGVyIENsdXN0ZXIgMDwvZGl2PmApWzBdOwogICAgICAgICAgICBwb3B1cF84NzU5NGNhZjIwNmI0YjBiOTBjOTc5ZDM0YjliMGY1ZC5zZXRDb250ZW50KGh0bWxfOGY2NDBjYzlmOWYzNDJlYmI5YTcwMzdlNWI5ODMzZjEpOwogICAgICAgIAoKICAgICAgICBjaXJjbGVfbWFya2VyXzBkMWVhYTIwOTk3NTQ2MGI4MTJhZDQ5ZmUxZjA4MzU1LmJpbmRQb3B1cChwb3B1cF84NzU5NGNhZjIwNmI0YjBiOTBjOTc5ZDM0YjliMGY1ZCkKICAgICAgICA7CgogICAgICAgIAogICAgCiAgICAKICAgICAgICAgICAgdmFyIGNpcmNsZV9tYXJrZXJfNjQwMDQxM2Y4NDVhNGZiY2E3ZmQxNDBlNDk1OWQyMDAgPSBMLmNpcmNsZU1hcmtlcigKICAgICAgICAgICAgICAgIFs0My44MTc4MTAwMDAwMDAwNjUsIC03OS4yODAyNDM2MjE5OTk5NF0sCiAgICAgICAgICAgICAgICB7ImJ1YmJsaW5nTW91c2VFdmVudHMiOiB0cnVlLCAiY29sb3IiOiAiI2ZmMDAwMCIsICJkYXNoQXJyYXkiOiBudWxsLCAiZGFzaE9mZnNldCI6IG51bGwsICJmaWxsIjogdHJ1ZSwgImZpbGxDb2xvciI6ICIjZmYwMDAwIiwgImZpbGxPcGFjaXR5IjogMC43LCAiZmlsbFJ1bGUiOiAiZXZlbm9kZCIsICJsaW5lQ2FwIjogInJvdW5kIiwgImxpbmVKb2luIjogInJvdW5kIiwgIm9wYWNpdHkiOiAxLjAsICJyYWRpdXMiOiA1LCAic3Ryb2tlIjogdHJ1ZSwgIndlaWdodCI6IDN9CiAgICAgICAgICAgICkuYWRkVG8obWFwXzJmOGQ0YWNiMGY1ZDQ5YTRhZGRjYjljYjY2MzVmY2U2KTsKICAgICAgICAKICAgIAogICAgICAgIHZhciBwb3B1cF84NzRiYTY4ZmMwOTg0MWY0YThkNjQwMTc2NWQ3YTBmOSA9IEwucG9wdXAoeyJtYXhXaWR0aCI6ICIxMDAlIn0pOwoKICAgICAgICAKICAgICAgICAgICAgdmFyIGh0bWxfNTZlYjQ5MDAwMzk0NGI1YWE1ZDRiZmRkMDJiZmQ1MWMgPSAkKGA8ZGl2IGlkPSJodG1sXzU2ZWI0OTAwMDM5NDRiNWFhNWQ0YmZkZDAyYmZkNTFjIiBzdHlsZT0id2lkdGg6IDEwMC4wJTsgaGVpZ2h0OiAxMDAuMCU7Ij5BZ2luY291cnQgTm9ydGgsIEwmIzM5O0Ftb3JlYXV4IEVhc3QsIE1pbGxpa2VuLCBTdGVlbGVzIEVhc3QgQ2x1c3RlciAwPC9kaXY+YClbMF07CiAgICAgICAgICAgIHBvcHVwXzg3NGJhNjhmYzA5ODQxZjRhOGQ2NDAxNzY1ZDdhMGY5LnNldENvbnRlbnQoaHRtbF81NmViNDkwMDAzOTQ0YjVhYTVkNGJmZGQwMmJmZDUxYyk7CiAgICAgICAgCgogICAgICAgIGNpcmNsZV9tYXJrZXJfNjQwMDQxM2Y4NDVhNGZiY2E3ZmQxNDBlNDk1OWQyMDAuYmluZFBvcHVwKHBvcHVwXzg3NGJhNjhmYzA5ODQxZjRhOGQ2NDAxNzY1ZDdhMGY5KQogICAgICAgIDsKCiAgICAgICAgCiAgICAKPC9zY3JpcHQ+\" style=\"position:absolute;width:100%;height:100%;left:0;top:0;border:none !important;\" allowfullscreen webkitallowfullscreen mozallowfullscreen></iframe></div></div>"
      ],
      "text/plain": [
       "<folium.folium.Map at 0x1c0eeab8d68>"
      ]
     },
     "execution_count": 48,
     "metadata": {},
     "output_type": "execute_result"
    }
   ],
   "source": [
    "map_clusters = folium.Map(location=[latitude, longitude], zoom_start=11)\n",
    "\n",
    "# set color scheme for the clusters\n",
    "x = np.arange(kclusters)\n",
    "ys = [i+x+(i*x)**2 for i in range(kclusters)]\n",
    "colors_array = cm.rainbow(np.linspace(0, 1, len(ys)))\n",
    "rainbow = [colors.rgb2hex(i) for i in colors_array]\n",
    "\n",
    "# add markers to the map\n",
    "markers_colors = []\n",
    "for lat, lon, poi, cluster in zip(scarb_merged['Latitude'], scarb_merged['Longitude'], scarb_merged['Neighborhood'], scarb_merged['Cluster Labels']):\n",
    "    label = folium.Popup(str(poi) + ' Cluster ' + str(cluster), parse_html=True)\n",
    "    folium.CircleMarker(\n",
    "        [lat, lon],\n",
    "        radius=5,\n",
    "        popup=label,\n",
    "        color=rainbow[cluster-1],\n",
    "        fill=True,\n",
    "        fill_color=rainbow[cluster-1],\n",
    "        fill_opacity=0.7).add_to(map_clusters)\n",
    "       \n",
    "map_clusters"
   ]
  },
  {
   "cell_type": "code",
   "execution_count": null,
   "metadata": {},
   "outputs": [],
   "source": []
  },
  {
   "cell_type": "code",
   "execution_count": null,
   "metadata": {},
   "outputs": [],
   "source": []
  }
 ],
 "metadata": {
  "kernelspec": {
   "display_name": "Python 3",
   "language": "python",
   "name": "python3"
  },
  "language_info": {
   "codemirror_mode": {
    "name": "ipython",
    "version": 3
   },
   "file_extension": ".py",
   "mimetype": "text/x-python",
   "name": "python",
   "nbconvert_exporter": "python",
   "pygments_lexer": "ipython3",
   "version": "3.7.1"
  }
 },
 "nbformat": 4,
 "nbformat_minor": 2
}
